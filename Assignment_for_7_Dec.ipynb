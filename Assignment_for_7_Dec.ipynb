{
 "cells": [
  {
   "cell_type": "code",
   "execution_count": 1,
   "metadata": {},
   "outputs": [],
   "source": [
    "import numpy as np\n",
    "import pandas as pd\n",
    "import matplotlib.pyplot as plt"
   ]
  },
  {
   "cell_type": "code",
   "execution_count": 2,
   "metadata": {},
   "outputs": [
    {
     "data": {
      "text/html": [
       "<div>\n",
       "<style scoped>\n",
       "    .dataframe tbody tr th:only-of-type {\n",
       "        vertical-align: middle;\n",
       "    }\n",
       "\n",
       "    .dataframe tbody tr th {\n",
       "        vertical-align: top;\n",
       "    }\n",
       "\n",
       "    .dataframe thead th {\n",
       "        text-align: right;\n",
       "    }\n",
       "</style>\n",
       "<table border=\"1\" class=\"dataframe\">\n",
       "  <thead>\n",
       "    <tr style=\"text-align: right;\">\n",
       "      <th></th>\n",
       "      <th>gender</th>\n",
       "      <th>race/ethnicity</th>\n",
       "      <th>parental level of education</th>\n",
       "      <th>lunch</th>\n",
       "      <th>test preparation course</th>\n",
       "      <th>math score</th>\n",
       "      <th>reading score</th>\n",
       "      <th>writing score</th>\n",
       "    </tr>\n",
       "  </thead>\n",
       "  <tbody>\n",
       "    <tr>\n",
       "      <th>0</th>\n",
       "      <td>male</td>\n",
       "      <td>group C</td>\n",
       "      <td>some college</td>\n",
       "      <td>standard</td>\n",
       "      <td>completed</td>\n",
       "      <td>77</td>\n",
       "      <td>81</td>\n",
       "      <td>78</td>\n",
       "    </tr>\n",
       "    <tr>\n",
       "      <th>1</th>\n",
       "      <td>female</td>\n",
       "      <td>group B</td>\n",
       "      <td>some high school</td>\n",
       "      <td>free/reduced</td>\n",
       "      <td>completed</td>\n",
       "      <td>37</td>\n",
       "      <td>49</td>\n",
       "      <td>46</td>\n",
       "    </tr>\n",
       "    <tr>\n",
       "      <th>2</th>\n",
       "      <td>male</td>\n",
       "      <td>group A</td>\n",
       "      <td>some college</td>\n",
       "      <td>free/reduced</td>\n",
       "      <td>completed</td>\n",
       "      <td>32</td>\n",
       "      <td>37</td>\n",
       "      <td>41</td>\n",
       "    </tr>\n",
       "    <tr>\n",
       "      <th>3</th>\n",
       "      <td>male</td>\n",
       "      <td>group B</td>\n",
       "      <td>bachelor's degree</td>\n",
       "      <td>standard</td>\n",
       "      <td>completed</td>\n",
       "      <td>88</td>\n",
       "      <td>87</td>\n",
       "      <td>80</td>\n",
       "    </tr>\n",
       "    <tr>\n",
       "      <th>4</th>\n",
       "      <td>female</td>\n",
       "      <td>group C</td>\n",
       "      <td>high school</td>\n",
       "      <td>standard</td>\n",
       "      <td>completed</td>\n",
       "      <td>92</td>\n",
       "      <td>92</td>\n",
       "      <td>93</td>\n",
       "    </tr>\n",
       "  </tbody>\n",
       "</table>\n",
       "</div>"
      ],
      "text/plain": [
       "   gender race/ethnicity parental level of education         lunch  \\\n",
       "0    male        group C                some college      standard   \n",
       "1  female        group B            some high school  free/reduced   \n",
       "2    male        group A                some college  free/reduced   \n",
       "3    male        group B           bachelor's degree      standard   \n",
       "4  female        group C                 high school      standard   \n",
       "\n",
       "  test preparation course  math score  reading score  writing score  \n",
       "0               completed          77             81             78  \n",
       "1               completed          37             49             46  \n",
       "2               completed          32             37             41  \n",
       "3               completed          88             87             80  \n",
       "4               completed          92             92             93  "
      ]
     },
     "execution_count": 2,
     "metadata": {},
     "output_type": "execute_result"
    }
   ],
   "source": [
    "df=pd.read_csv(r'C:\\Users\\SAKSHI\\Documents\\python\\Test-core-Dataset.csv')\n",
    "df.head()"
   ]
  },
  {
   "cell_type": "code",
   "execution_count": 3,
   "metadata": {},
   "outputs": [
    {
     "data": {
      "text/plain": [
       "['gender',\n",
       " 'race/ethnicity',\n",
       " 'parental level of education',\n",
       " 'lunch',\n",
       " 'test preparation course',\n",
       " 'math score',\n",
       " 'reading score',\n",
       " 'writing score']"
      ]
     },
     "execution_count": 3,
     "metadata": {},
     "output_type": "execute_result"
    }
   ],
   "source": [
    "list(df)"
   ]
  },
  {
   "cell_type": "code",
   "execution_count": 4,
   "metadata": {},
   "outputs": [
    {
     "data": {
      "text/html": [
       "<div>\n",
       "<style scoped>\n",
       "    .dataframe tbody tr th:only-of-type {\n",
       "        vertical-align: middle;\n",
       "    }\n",
       "\n",
       "    .dataframe tbody tr th {\n",
       "        vertical-align: top;\n",
       "    }\n",
       "\n",
       "    .dataframe thead th {\n",
       "        text-align: right;\n",
       "    }\n",
       "</style>\n",
       "<table border=\"1\" class=\"dataframe\">\n",
       "  <thead>\n",
       "    <tr style=\"text-align: right;\">\n",
       "      <th></th>\n",
       "      <th>math score</th>\n",
       "      <th>reading score</th>\n",
       "      <th>writing score</th>\n",
       "    </tr>\n",
       "  </thead>\n",
       "  <tbody>\n",
       "    <tr>\n",
       "      <th>count</th>\n",
       "      <td>1000.000000</td>\n",
       "      <td>1000.000000</td>\n",
       "      <td>1000.000000</td>\n",
       "    </tr>\n",
       "    <tr>\n",
       "      <th>mean</th>\n",
       "      <td>67.584000</td>\n",
       "      <td>70.249000</td>\n",
       "      <td>69.128000</td>\n",
       "    </tr>\n",
       "    <tr>\n",
       "      <th>std</th>\n",
       "      <td>15.375414</td>\n",
       "      <td>14.684162</td>\n",
       "      <td>15.242242</td>\n",
       "    </tr>\n",
       "    <tr>\n",
       "      <th>min</th>\n",
       "      <td>16.000000</td>\n",
       "      <td>18.000000</td>\n",
       "      <td>16.000000</td>\n",
       "    </tr>\n",
       "    <tr>\n",
       "      <th>25%</th>\n",
       "      <td>57.000000</td>\n",
       "      <td>61.000000</td>\n",
       "      <td>59.000000</td>\n",
       "    </tr>\n",
       "    <tr>\n",
       "      <th>50%</th>\n",
       "      <td>68.000000</td>\n",
       "      <td>70.000000</td>\n",
       "      <td>70.000000</td>\n",
       "    </tr>\n",
       "    <tr>\n",
       "      <th>75%</th>\n",
       "      <td>79.000000</td>\n",
       "      <td>80.250000</td>\n",
       "      <td>80.000000</td>\n",
       "    </tr>\n",
       "    <tr>\n",
       "      <th>max</th>\n",
       "      <td>100.000000</td>\n",
       "      <td>100.000000</td>\n",
       "      <td>100.000000</td>\n",
       "    </tr>\n",
       "  </tbody>\n",
       "</table>\n",
       "</div>"
      ],
      "text/plain": [
       "        math score  reading score  writing score\n",
       "count  1000.000000    1000.000000    1000.000000\n",
       "mean     67.584000      70.249000      69.128000\n",
       "std      15.375414      14.684162      15.242242\n",
       "min      16.000000      18.000000      16.000000\n",
       "25%      57.000000      61.000000      59.000000\n",
       "50%      68.000000      70.000000      70.000000\n",
       "75%      79.000000      80.250000      80.000000\n",
       "max     100.000000     100.000000     100.000000"
      ]
     },
     "execution_count": 4,
     "metadata": {},
     "output_type": "execute_result"
    }
   ],
   "source": [
    "df.describe()"
   ]
  },
  {
   "cell_type": "code",
   "execution_count": 5,
   "metadata": {},
   "outputs": [
    {
     "data": {
      "text/plain": [
       "gender                         0\n",
       "race/ethnicity                 0\n",
       "parental level of education    0\n",
       "lunch                          0\n",
       "test preparation course        0\n",
       "math score                     0\n",
       "reading score                  0\n",
       "writing score                  0\n",
       "dtype: int64"
      ]
     },
     "execution_count": 5,
     "metadata": {},
     "output_type": "execute_result"
    }
   ],
   "source": [
    "df.isnull().sum()"
   ]
  },
  {
   "cell_type": "markdown",
   "metadata": {},
   "source": [
    "dfnum=df"
   ]
  },
  {
   "cell_type": "code",
   "execution_count": 6,
   "metadata": {},
   "outputs": [
    {
     "data": {
      "text/plain": [
       "female    516\n",
       "male      484\n",
       "Name: gender, dtype: int64"
      ]
     },
     "execution_count": 6,
     "metadata": {},
     "output_type": "execute_result"
    }
   ],
   "source": [
    "df.gender.value_counts()\n"
   ]
  },
  {
   "cell_type": "markdown",
   "metadata": {},
   "source": [
    "dfnum['gender']=dfnum['gender'].replace(['female','male'],[0,1])"
   ]
  },
  {
   "cell_type": "code",
   "execution_count": 7,
   "metadata": {},
   "outputs": [
    {
     "data": {
      "text/plain": [
       "group C    309\n",
       "group D    277\n",
       "group B    201\n",
       "group E    139\n",
       "group A     74\n",
       "Name: race/ethnicity, dtype: int64"
      ]
     },
     "execution_count": 7,
     "metadata": {},
     "output_type": "execute_result"
    }
   ],
   "source": [
    "df['race/ethnicity'].value_counts()"
   ]
  },
  {
   "cell_type": "markdown",
   "metadata": {},
   "source": [
    "x=list(set(df['race/ethnicity'].values))\n",
    "df['race/ethnicity']=df['race/ethnicity'].replace(x,[0,1,2,3,4])"
   ]
  },
  {
   "cell_type": "code",
   "execution_count": 8,
   "metadata": {},
   "outputs": [
    {
     "data": {
      "text/plain": [
       "associate's degree    209\n",
       "some college          203\n",
       "high school           198\n",
       "some high school      191\n",
       "bachelor's degree     126\n",
       "master's degree        73\n",
       "Name: parental level of education, dtype: int64"
      ]
     },
     "execution_count": 8,
     "metadata": {},
     "output_type": "execute_result"
    }
   ],
   "source": [
    "df['parental level of education'].value_counts()"
   ]
  },
  {
   "cell_type": "markdown",
   "metadata": {},
   "source": [
    "x=list(set(df['parental level of education'].values))\n",
    "df['parental level of education']=df['parental level of education'].replace(x,[0,1,2,3,4,5])"
   ]
  },
  {
   "cell_type": "code",
   "execution_count": 9,
   "metadata": {},
   "outputs": [
    {
     "data": {
      "text/plain": [
       "standard        653\n",
       "free/reduced    347\n",
       "Name: lunch, dtype: int64"
      ]
     },
     "execution_count": 9,
     "metadata": {},
     "output_type": "execute_result"
    }
   ],
   "source": [
    "df['lunch'].value_counts()"
   ]
  },
  {
   "cell_type": "markdown",
   "metadata": {},
   "source": [
    "x=list(set(df['lunch'].values))\n",
    "df['lunch']=df['lunch'].replace(x,[0,1])"
   ]
  },
  {
   "cell_type": "code",
   "execution_count": 10,
   "metadata": {},
   "outputs": [
    {
     "data": {
      "text/plain": [
       "none         666\n",
       "completed    334\n",
       "Name: test preparation course, dtype: int64"
      ]
     },
     "execution_count": 10,
     "metadata": {},
     "output_type": "execute_result"
    }
   ],
   "source": [
    "df['test preparation course'].value_counts()"
   ]
  },
  {
   "cell_type": "markdown",
   "metadata": {},
   "source": [
    "x=list(set(df['test preparation course'].values))\n",
    "df['test preparation course']=df['test preparation course'].replace(x,[0,1])"
   ]
  },
  {
   "cell_type": "code",
   "execution_count": 11,
   "metadata": {},
   "outputs": [
    {
     "data": {
      "image/png": "[encoded data removed]",
      "text/plain": [
       "<Figure size 432x288 with 1 Axes>"
      ]
     },
     "metadata": {},
     "output_type": "display_data"
    }
   ],
   "source": [
    "#2.Draw a histogram for overall score of the stidents\n",
    "plt.hist(df['math score']+df['reading score']+df['writing score'],bins=20)\n",
    "plt.title('Histogram for overall score of the students')\n",
    "plt.ylabel('Frequency of students')\n",
    "plt.xticks(np.arange(50, 320, step=20))\n",
    "plt.yticks(np.arange(0, 140, step=10))\n",
    "plt.xlabel('Total marks of students')\n",
    "plt.grid(True)\n",
    "plt.show()"
   ]
  },
  {
   "cell_type": "code",
   "execution_count": 12,
   "metadata": {},
   "outputs": [
    {
     "data": {
      "image/png": "[encoded data removed]",
      "text/plain": [
       "<Figure size 432x288 with 1 Axes>"
      ]
     },
     "metadata": {},
     "output_type": "display_data"
    }
   ],
   "source": [
    "#3.Draw a histogram for overall score of the stidents\n",
    "#a Maths\n",
    "plt.hist(df['math score'],bins=50)\n",
    "plt.title('Histogram for Math score of the students')\n",
    "plt.xticks(np.arange(10, 105, step=5))\n",
    "plt.yticks(np.arange(0, 70, step=5))\n",
    "plt.ylabel('Frequency of students')\n",
    "plt.xlabel('Total marks of students')\n",
    "plt.grid(True)\n",
    "plt.show()"
   ]
  },
  {
   "cell_type": "code",
   "execution_count": 13,
   "metadata": {},
   "outputs": [
    {
     "data": {
      "image/png": "[encoded data removed]",
      "text/plain": [
       "<Figure size 432x288 with 1 Axes>"
      ]
     },
     "metadata": {},
     "output_type": "display_data"
    }
   ],
   "source": [
    "#b Reading\n",
    "plt.hist(df['reading score'],bins=50)\n",
    "plt.title('Histogram for Reading score of the students')\n",
    "plt.xticks(np.arange(10, 105, step=5))\n",
    "plt.yticks(np.arange(0, 70, step=5))\n",
    "plt.ylabel('Frequency of students')\n",
    "plt.xlabel('Total marks of students')\n",
    "plt.grid(True)\n",
    "plt.show()"
   ]
  },
  {
   "cell_type": "code",
   "execution_count": 14,
   "metadata": {},
   "outputs": [
    {
     "data": {
      "image/png": "[encoded data removed]",
      "text/plain": [
       "<Figure size 432x288 with 1 Axes>"
      ]
     },
     "metadata": {},
     "output_type": "display_data"
    }
   ],
   "source": [
    "#c Reading\n",
    "plt.hist(df['writing score'],bins=50)\n",
    "plt.title('Histogram for Writing score of the students')\n",
    "plt.xticks(np.arange(10, 105, step=5))\n",
    "plt.yticks(np.arange(0, 70, step=5))\n",
    "plt.ylabel('Frequency of students')\n",
    "plt.xlabel('Total marks of students')\n",
    "plt.grid(True)\n",
    "plt.show()"
   ]
  },
  {
   "cell_type": "code",
   "execution_count": 15,
   "metadata": {},
   "outputs": [
    {
     "name": "stdout",
     "output_type": "stream",
     "text": [
      "Mean\n",
      "gender             female        male\n",
      "math score      65.073643   70.260331\n",
      "reading score   73.507752   66.774793\n",
      "writing score   73.337209   64.640496\n",
      "overall        211.918605  201.675620\n",
      "\n",
      "Median\n",
      "gender         female   male\n",
      "math score       65.0   70.5\n",
      "reading score    74.0   66.0\n",
      "writing score    74.0   65.0\n",
      "overall         213.0  200.0\n",
      "\n",
      "Standard Deviation\n",
      "gender            female       male\n",
      "math score     14.948143  15.388226\n",
      "reading score  13.767767  14.846938\n",
      "writing score  14.019080  15.227022\n",
      "overall        41.471304  44.339787\n"
     ]
    }
   ],
   "source": [
    "#4.What is the summary statistics (mean, median, mode, standard deviation, Q1, Q2,Q3) for each gender\n",
    "import statistics as st\n",
    "df['overall']=df.sum(axis=1)\n",
    "print('Mean')\n",
    "print(df.groupby('gender')[['math score']+['reading score']+['writing score']+['overall']].mean().T)\n",
    "print('\\nMedian')\n",
    "print(df.groupby('gender')[['math score']+['reading score']+['writing score']+['overall']].median().T)\n",
    "print('\\nStandard Deviation')\n",
    "print(df.groupby('gender')[['math score']+['reading score']+['writing score']+['overall']].std().T)"
   ]
  },
  {
   "cell_type": "code",
   "execution_count": 16,
   "metadata": {},
   "outputs": [
    {
     "name": "stdout",
     "output_type": "stream",
     "text": [
      "Mode:\n",
      "Female:\n",
      " math score        63\n",
      "reading score     77\n",
      "writing score     71\n",
      "overall          200\n",
      "Name: 0, dtype: object\n",
      "\n",
      "Male:\n",
      " math score        72\n",
      "reading score     66\n",
      "writing score     56\n",
      "overall          175\n",
      "Name: 0, dtype: object\n"
     ]
    }
   ],
   "source": [
    "print('Mode:\\nFemale:\\n',(df.loc[df['gender']=='female']).mode().T[0][5:9])\n",
    "print('\\nMale:\\n',(df.loc[df['gender']=='male']).mode().T[0][5:9])"
   ]
  },
  {
   "cell_type": "code",
   "execution_count": 17,
   "metadata": {},
   "outputs": [
    {
     "name": "stdout",
     "output_type": "stream",
     "text": [
      "Q1 Q2 Q3:\n",
      "gender          female  male\n",
      "math score 25%    55.0  60.0\n",
      "           50%    65.0  70.5\n",
      "           75%    75.0  82.0\n",
      "gender             female  male\n",
      "reading score 25%   65.00  58.0\n",
      "              50%   74.00  66.0\n",
      "              75%   83.25  78.0\n",
      "gender             female  male\n",
      "writing score 25%    64.0  55.0\n",
      "              50%    74.0  65.0\n",
      "              75%    83.0  76.0\n"
     ]
    }
   ],
   "source": [
    "print('Q1 Q2 Q3:')\n",
    "print(df.groupby('gender')[['math score']+['reading score']+['writing score']+['overall']].describe().T[:][4:7])\n",
    "print(df.groupby('gender')[['math score']+['reading score']+['writing score']+['overall']].describe().T[:][12:15])\n",
    "print(df.groupby('gender')[['math score']+['reading score']+['writing score']+['overall']].describe().T[:][20:23])"
   ]
  },
  {
   "cell_type": "code",
   "execution_count": 18,
   "metadata": {},
   "outputs": [
    {
     "name": "stdout",
     "output_type": "stream",
     "text": [
      "Mean\n",
      "race/ethnicity     group A     group B     group C     group D     group E\n",
      "math score       66.770270   65.980100   65.699029   66.880866   75.928058\n",
      "reading score    67.108108   69.706468   69.786408   69.678700   74.870504\n",
      "writing score    65.675676   68.383085   68.145631   69.552347   73.381295\n",
      "overall         199.554054  204.069652  203.631068  206.111913  224.179856\n",
      "\n",
      "Median\n",
      "race/ethnicity  group A  group B  group C  group D  group E\n",
      "math score         67.5     66.0     67.0     68.0     77.0\n",
      "reading score      67.5     69.0     69.0     72.0     74.0\n",
      "writing score      65.0     70.0     69.0     71.0     73.0\n",
      "overall           201.5    204.0    201.0    212.0    223.0\n",
      "\n",
      "Standard Deviation\n",
      "race/ethnicity    group A    group B    group C    group D    group E\n",
      "math score      14.715147  15.031287  14.811040  15.618768  14.446122\n",
      "reading score   14.330318  14.484419  14.272385  14.944875  14.783380\n",
      "writing score   14.948412  14.546048  14.913653  15.669653  15.542087\n",
      "overall         42.232281  41.863649  41.802253  44.151400  42.902189\n"
     ]
    }
   ],
   "source": [
    "#5.What is the summary statistics (mean, median, mode, standard deviation, Q1, Q2,Q3) for each race\n",
    "print('Mean')\n",
    "print(df.groupby('race/ethnicity')[['math score']+['reading score']+['writing score']+['overall']].mean().T)\n",
    "print('\\nMedian')\n",
    "print(df.groupby('race/ethnicity')[['math score']+['reading score']+['writing score']+['overall']].median().T)\n",
    "print('\\nStandard Deviation')\n",
    "print(df.groupby('race/ethnicity')[['math score']+['reading score']+['writing score']+['overall']].std().T)"
   ]
  },
  {
   "cell_type": "code",
   "execution_count": 19,
   "metadata": {},
   "outputs": [
    {
     "name": "stdout",
     "output_type": "stream",
     "text": [
      "Mode:\n",
      "Group A\n",
      " math score        59\n",
      "reading score     62\n",
      "writing score     56\n",
      "overall          185\n",
      "Name: 0, dtype: object\n",
      "\n",
      "Group B\n",
      " math score        62\n",
      "reading score     66\n",
      "writing score     77\n",
      "overall          195\n",
      "Name: 0, dtype: object\n",
      "\n",
      "Group C\n",
      " math score        57\n",
      "reading score     65\n",
      "writing score     55\n",
      "overall          186\n",
      "Name: 0, dtype: object\n",
      "\n",
      "Group D\n",
      " math score        65\n",
      "reading score     73\n",
      "writing score     78\n",
      "overall          222\n",
      "Name: 0, dtype: object\n",
      "\n",
      "Group E\n",
      " math score       100\n",
      "reading score     64\n",
      "writing score    100\n",
      "overall          300\n",
      "Name: 0, dtype: object\n"
     ]
    }
   ],
   "source": [
    "print('Mode:')\n",
    "print('Group A\\n',df.loc[df['race/ethnicity']==\"group A\"].mode().T[0][5:9])\n",
    "print('\\nGroup B\\n',df.loc[df['race/ethnicity']==\"group B\"].mode().T[0][5:9])\n",
    "print('\\nGroup C\\n',df.loc[df['race/ethnicity']==\"group C\"].mode().T[0][5:9])\n",
    "print('\\nGroup D\\n',df.loc[df['race/ethnicity']==\"group D\"].mode().T[0][5:9])\n",
    "print('\\nGroup E\\n',df.loc[df['race/ethnicity']==\"group E\"].mode().T[0][5:9])"
   ]
  },
  {
   "cell_type": "code",
   "execution_count": 20,
   "metadata": {},
   "outputs": [
    {
     "name": "stdout",
     "output_type": "stream",
     "text": [
      "Q1 Q2 Q3:\n",
      "race/ethnicity  group A  group B  group C  group D  group E\n",
      "math score 25%    57.25     57.0     57.0     56.0     65.5\n",
      "           50%    67.50     66.0     67.0     68.0     77.0\n",
      "           75%    77.50     76.0     75.0     79.0     86.0\n",
      "race/ethnicity     group A  group B  group C  group D  group E\n",
      "reading score 25%    57.25     62.0     61.0     60.0     64.0\n",
      "              50%    67.50     69.0     69.0     72.0     74.0\n",
      "              75%    78.50     80.0     80.0     80.0     86.0\n",
      "race/ethnicity     group A  group B  group C  group D  group E\n",
      "writing score 25%     56.0     60.0     58.0     60.0     64.0\n",
      "              50%     65.0     70.0     69.0     71.0     73.0\n",
      "              75%     76.0     78.0     79.0     80.0     85.0\n"
     ]
    }
   ],
   "source": [
    "print('Q1 Q2 Q3:')\n",
    "print(df.groupby('race/ethnicity')[['math score']+['reading score']+['writing score']+['overall']].describe().T[:][4:7])\n",
    "print(df.groupby('race/ethnicity')[['math score']+['reading score']+['writing score']+['overall']].describe().T[:][12:15])\n",
    "print(df.groupby('race/ethnicity')[['math score']+['reading score']+['writing score']+['overall']].describe().T[:][20:23])"
   ]
  },
  {
   "cell_type": "code",
   "execution_count": 21,
   "metadata": {},
   "outputs": [],
   "source": [
    "#6. Draw box plots for gender and race and analyze the findings\n",
    "x=pd.DataFrame(df)\n",
    "\n",
    "#plt.boxplot(x['gender'])\n",
    "#plt.show()"
   ]
  },
  {
   "cell_type": "code",
   "execution_count": 22,
   "metadata": {},
   "outputs": [
    {
     "data": {
      "image/png": "[encoded data removed]",
      "text/plain": [
       "<Figure size 720x576 with 4 Axes>"
      ]
     },
     "metadata": {},
     "output_type": "display_data"
    }
   ],
   "source": [
    "x.boxplot(by='gender',column=['math score','reading score','writing score'],figsize=(10, 8))\n",
    "plt.show()"
   ]
  },
  {
   "cell_type": "code",
   "execution_count": 23,
   "metadata": {},
   "outputs": [
    {
     "data": {
      "image/png": "[encoded data removed]",
      "text/plain": [
       "<Figure size 720x576 with 4 Axes>"
      ]
     },
     "metadata": {},
     "output_type": "display_data"
    }
   ],
   "source": [
    "x.boxplot(by='race/ethnicity',column=['math score','reading score','writing score'],figsize=(10, 8))\n",
    "plt.show()"
   ]
  },
  {
   "cell_type": "markdown",
   "metadata": {
    "collapsed": true
   },
   "source": [
    "\n",
    "y=list(set(df['test preparation course'].values)) \n",
    "#x['test preparation course']=x['test preparation course'].replace(y,[0,1])"
   ]
  },
  {
   "cell_type": "markdown",
   "metadata": {},
   "source": [
    "plt.scatter(x['test preparation course'],x['math score'])\n",
    "plt.show()"
   ]
  },
  {
   "cell_type": "markdown",
   "metadata": {},
   "source": [
    "pd.crosstab(df['math score'],df['test preparation course']).plot(kind='hist',alpha=0.7,bins=20,figsize=(10,8))\n",
    "plt.xticks(np.arange(0, 25, step=1))\n",
    "plt.yticks(np.arange(0, 20, step=1))\n",
    "plt.grid(True)\n",
    "plt.ylabel('Frequency of students')\n",
    "plt.label('Total marks of students')\n",
    "plt.title('Test preparation affecting the math score')\n",
    "plt.show()"
   ]
  },
  {
   "cell_type": "markdown",
   "metadata": {},
   "source": [
    "#8. How is the test preparation affecting the overall score. Give a visual representation.\n",
    "pd.crosstab(df['overall'],df['test preparation course']).plot(kind='hist',alpha=0.7,bins=10,figsize=(10,8))\n",
    "plt.xticks(np.arange(0, 16, step=1))\n",
    "plt.yticks(np.arange(0, 115, step=5))\n",
    "plt.grid(True)\n",
    "plt.xlabel('Frequency of students')\n",
    "plt.ylabel('Total marks of students')\n",
    "plt.title('Test preparation affecting the overall score')\n",
    "plt.show()"
   ]
  },
  {
   "cell_type": "code",
   "execution_count": 43,
   "metadata": {},
   "outputs": [
    {
     "data": {
      "image/png": "[encoded data removed]",
      "text/plain": [
       "<Figure size 432x216 with 2 Axes>"
      ]
     },
     "metadata": {},
     "output_type": "display_data"
    }
   ],
   "source": [
    "#7. How is the test preparation affecting the math score. Give a visual representation.\n",
    "import seaborn as sns\n",
    "g = sns.FacetGrid(df, col=\"test preparation course\")\n",
    "g = g.map(plt.hist,\"math score\")\n",
    "plt.show()"
   ]
  },
  {
   "cell_type": "code",
   "execution_count": 45,
   "metadata": {},
   "outputs": [
    {
     "data": {
      "image/png": "[encoded data removed]",
      "text/plain": [
       "<Figure size 432x216 with 2 Axes>"
      ]
     },
     "metadata": {},
     "output_type": "display_data"
    }
   ],
   "source": [
    "#8. How is the test preparation affecting the overall score. Give a visual representation.\n",
    "g = sns.FacetGrid(df, col=\"test preparation course\")\n",
    "g = g.map(plt.hist,\"overall\")\n",
    "plt.show()"
   ]
  },
  {
   "cell_type": "code",
   "execution_count": 47,
   "metadata": {},
   "outputs": [
    {
     "data": {
      "text/html": [
       "<div>\n",
       "<style scoped>\n",
       "    .dataframe tbody tr th:only-of-type {\n",
       "        vertical-align: middle;\n",
       "    }\n",
       "\n",
       "    .dataframe tbody tr th {\n",
       "        vertical-align: top;\n",
       "    }\n",
       "\n",
       "    .dataframe thead th {\n",
       "        text-align: right;\n",
       "    }\n",
       "</style>\n",
       "<table border=\"1\" class=\"dataframe\">\n",
       "  <thead>\n",
       "    <tr style=\"text-align: right;\">\n",
       "      <th></th>\n",
       "      <th>gender</th>\n",
       "      <th>race/ethnicity</th>\n",
       "      <th>parental level of education</th>\n",
       "      <th>lunch</th>\n",
       "      <th>test preparation course</th>\n",
       "      <th>math score</th>\n",
       "      <th>reading score</th>\n",
       "      <th>writing score</th>\n",
       "      <th>overall</th>\n",
       "    </tr>\n",
       "  </thead>\n",
       "  <tbody>\n",
       "    <tr>\n",
       "      <th>0</th>\n",
       "      <td>1</td>\n",
       "      <td>2</td>\n",
       "      <td>4</td>\n",
       "      <td>1</td>\n",
       "      <td>0</td>\n",
       "      <td>77</td>\n",
       "      <td>81</td>\n",
       "      <td>78</td>\n",
       "      <td>236</td>\n",
       "    </tr>\n",
       "    <tr>\n",
       "      <th>1</th>\n",
       "      <td>0</td>\n",
       "      <td>1</td>\n",
       "      <td>5</td>\n",
       "      <td>0</td>\n",
       "      <td>0</td>\n",
       "      <td>37</td>\n",
       "      <td>49</td>\n",
       "      <td>46</td>\n",
       "      <td>132</td>\n",
       "    </tr>\n",
       "    <tr>\n",
       "      <th>2</th>\n",
       "      <td>1</td>\n",
       "      <td>0</td>\n",
       "      <td>4</td>\n",
       "      <td>0</td>\n",
       "      <td>0</td>\n",
       "      <td>32</td>\n",
       "      <td>37</td>\n",
       "      <td>41</td>\n",
       "      <td>110</td>\n",
       "    </tr>\n",
       "    <tr>\n",
       "      <th>3</th>\n",
       "      <td>1</td>\n",
       "      <td>1</td>\n",
       "      <td>1</td>\n",
       "      <td>1</td>\n",
       "      <td>0</td>\n",
       "      <td>88</td>\n",
       "      <td>87</td>\n",
       "      <td>80</td>\n",
       "      <td>255</td>\n",
       "    </tr>\n",
       "    <tr>\n",
       "      <th>4</th>\n",
       "      <td>0</td>\n",
       "      <td>2</td>\n",
       "      <td>2</td>\n",
       "      <td>1</td>\n",
       "      <td>0</td>\n",
       "      <td>92</td>\n",
       "      <td>92</td>\n",
       "      <td>93</td>\n",
       "      <td>277</td>\n",
       "    </tr>\n",
       "  </tbody>\n",
       "</table>\n",
       "</div>"
      ],
      "text/plain": [
       "   gender  race/ethnicity  parental level of education  lunch  \\\n",
       "0       1               2                            4      1   \n",
       "1       0               1                            5      0   \n",
       "2       1               0                            4      0   \n",
       "3       1               1                            1      1   \n",
       "4       0               2                            2      1   \n",
       "\n",
       "   test preparation course  math score  reading score  writing score  overall  \n",
       "0                        0          77             81             78      236  \n",
       "1                        0          37             49             46      132  \n",
       "2                        0          32             37             41      110  \n",
       "3                        0          88             87             80      255  \n",
       "4                        0          92             92             93      277  "
      ]
     },
     "execution_count": 47,
     "metadata": {},
     "output_type": "execute_result"
    }
   ],
   "source": [
    "#gender\n",
    "from sklearn.preprocessing import LabelEncoder\n",
    "#test preparation\n",
    "le = LabelEncoder()\n",
    "le.fit(df[\"test preparation course\"].drop_duplicates()) \n",
    "df[\"test preparation course\"] = le.transform(df[\"test preparation course\"])\n",
    "le = LabelEncoder()\n",
    "le.fit(df[\"gender\"].drop_duplicates()) \n",
    "df[\"gender\"] = le.transform(df[\"gender\"])\n",
    "#race/ethnicity\n",
    "le = LabelEncoder()\n",
    "le.fit(df[\"race/ethnicity\"].drop_duplicates()) \n",
    "df[\"race/ethnicity\"] = le.transform(df[\"race/ethnicity\"])\n",
    "#parental level of education\n",
    "le = LabelEncoder()\n",
    "le.fit(df[\"parental level of education\"].drop_duplicates()) \n",
    "df[\"parental level of education\"] = le.transform(df[\"parental level of education\"])\n",
    "#lunch\n",
    "le = LabelEncoder()\n",
    "le.fit(df[\"lunch\"].drop_duplicates()) \n",
    "df[\"lunch\"] = le.transform(df[\"lunch\"])\n",
    "df.head()"
   ]
  },
  {
   "cell_type": "code",
   "execution_count": 49,
   "metadata": {},
   "outputs": [
    {
     "data": {
      "image/png": "[encoded data removed]",
      "text/plain": [
       "<Figure size 432x216 with 2 Axes>"
      ]
     },
     "metadata": {},
     "output_type": "display_data"
    }
   ],
   "source": [
    "g = sns.FacetGrid(df, col=\"gender\")\n",
    "g = g.map(plt.hist,\"overall\")\n",
    "plt.show()\n"
   ]
  },
  {
   "cell_type": "code",
   "execution_count": 51,
   "metadata": {},
   "outputs": [
    {
     "data": {
      "image/png": "[encoded data removed]",
      "text/plain": [
       "<Figure size 1080x216 with 5 Axes>"
      ]
     },
     "metadata": {},
     "output_type": "display_data"
    }
   ],
   "source": [
    "g = sns.FacetGrid(df, col=\"race/ethnicity\")\n",
    "g = g.map(plt.hist,\"overall\")\n",
    "plt.show()"
   ]
  },
  {
   "cell_type": "code",
   "execution_count": 53,
   "metadata": {},
   "outputs": [
    {
     "data": {
      "image/png": "[encoded data removed]",
      "text/plain": [
       "<Figure size 1296x216 with 6 Axes>"
      ]
     },
     "metadata": {},
     "output_type": "display_data"
    }
   ],
   "source": [
    "g = sns.FacetGrid(df, col=\"parental level of education\")\n",
    "g = g.map(plt.hist,\"overall\")\n",
    "plt.show()"
   ]
  },
  {
   "cell_type": "code",
   "execution_count": 54,
   "metadata": {},
   "outputs": [
    {
     "data": {
      "image/png": "[encoded data removed]",
      "text/plain": [
       "<Figure size 432x216 with 2 Axes>"
      ]
     },
     "metadata": {},
     "output_type": "display_data"
    }
   ],
   "source": [
    "g = sns.FacetGrid(df, col=\"lunch\")\n",
    "g = g.map(plt.hist,\"overall\")\n",
    "plt.show()"
   ]
  },
  {
   "cell_type": "code",
   "execution_count": 55,
   "metadata": {},
   "outputs": [
    {
     "name": "stderr",
     "output_type": "stream",
     "text": [
      "C:\\Users\\SAKSHI\\Anaconda3\\lib\\site-packages\\sklearn\\cross_validation.py:41: DeprecationWarning: This module was deprecated in version 0.18 in favor of the model_selection module into which all the refactored classes and functions are moved. Also note that the interface of the new CV iterators are different from that of this module. This module will be removed in 0.20.\n",
      "  \"This module will be removed in 0.20.\", DeprecationWarning)\n"
     ]
    },
    {
     "data": {
      "text/html": [
       "<div>\n",
       "<style scoped>\n",
       "    .dataframe tbody tr th:only-of-type {\n",
       "        vertical-align: middle;\n",
       "    }\n",
       "\n",
       "    .dataframe tbody tr th {\n",
       "        vertical-align: top;\n",
       "    }\n",
       "\n",
       "    .dataframe thead th {\n",
       "        text-align: right;\n",
       "    }\n",
       "</style>\n",
       "<table border=\"1\" class=\"dataframe\">\n",
       "  <thead>\n",
       "    <tr style=\"text-align: right;\">\n",
       "      <th></th>\n",
       "      <th>race/ethnicity</th>\n",
       "      <th>parental level of education</th>\n",
       "      <th>lunch</th>\n",
       "      <th>test preparation course</th>\n",
       "    </tr>\n",
       "  </thead>\n",
       "  <tbody>\n",
       "    <tr>\n",
       "      <th>0</th>\n",
       "      <td>2</td>\n",
       "      <td>4</td>\n",
       "      <td>1</td>\n",
       "      <td>0</td>\n",
       "    </tr>\n",
       "    <tr>\n",
       "      <th>1</th>\n",
       "      <td>1</td>\n",
       "      <td>5</td>\n",
       "      <td>0</td>\n",
       "      <td>0</td>\n",
       "    </tr>\n",
       "    <tr>\n",
       "      <th>2</th>\n",
       "      <td>0</td>\n",
       "      <td>4</td>\n",
       "      <td>0</td>\n",
       "      <td>0</td>\n",
       "    </tr>\n",
       "    <tr>\n",
       "      <th>3</th>\n",
       "      <td>1</td>\n",
       "      <td>1</td>\n",
       "      <td>1</td>\n",
       "      <td>0</td>\n",
       "    </tr>\n",
       "    <tr>\n",
       "      <th>4</th>\n",
       "      <td>2</td>\n",
       "      <td>2</td>\n",
       "      <td>1</td>\n",
       "      <td>0</td>\n",
       "    </tr>\n",
       "  </tbody>\n",
       "</table>\n",
       "</div>"
      ],
      "text/plain": [
       "   race/ethnicity  parental level of education  lunch  test preparation course\n",
       "0               2                            4      1                        0\n",
       "1               1                            5      0                        0\n",
       "2               0                            4      0                        0\n",
       "3               1                            1      1                        0\n",
       "4               2                            2      1                        0"
      ]
     },
     "execution_count": 55,
     "metadata": {},
     "output_type": "execute_result"
    }
   ],
   "source": [
    "#9. Generate a Linear Regression classifier to predict the oeverall score\n",
    "from sklearn.metrics import r2_score,mean_squared_error\n",
    "from sklearn.linear_model import LinearRegression\n",
    "from sklearn.cross_validation import train_test_split\n",
    "x = df.drop(['gender','math score','reading score','writing score','overall'], axis = 1)\n",
    "y = df.overall\n",
    "x.head()"
   ]
  },
  {
   "cell_type": "code",
   "execution_count": 56,
   "metadata": {},
   "outputs": [
    {
     "name": "stdout",
     "output_type": "stream",
     "text": [
      "Model performance for set: \n",
      "\n",
      "R2 score is0.15993302273944765 \n",
      "\n"
     ]
    }
   ],
   "source": [
    "x_train,x_test,y_train,y_test = train_test_split(x,y, random_state = 0)\n",
    "lr = LinearRegression().fit(x_train,y_train)\n",
    "clf = LinearRegression()\n",
    "clf.fit(x_train, y_train)\n",
    "predicted = clf.predict(x_test)\n",
    "expected = y_test\n",
    "\n",
    "\n",
    "y_train_pred = lr.predict(x_train)\n",
    "rmse=(np.sqrt(mean_squared_error(y_train,y_train_pred)))\n",
    "r2=r2_score(y_train,y_train_pred)\n",
    "\n",
    "print(\"Model performance for set: \\n\")\n",
    "print(\"R2 score is{}\".format(r2),'\\n')"
   ]
  },
  {
   "cell_type": "code",
   "execution_count": 57,
   "metadata": {},
   "outputs": [],
   "source": [
    "#Create two clusters and three clusters fron the data set. What is your analysis from clustering.\n",
    "x = df.iloc[:, [1, 2, 3,4]].values"
   ]
  },
  {
   "cell_type": "code",
   "execution_count": 58,
   "metadata": {},
   "outputs": [
    {
     "name": "stdout",
     "output_type": "stream",
     "text": [
      "[[2.18761726 0.9793621  0.65853659 0.67542214]\n",
      " [2.22698073 4.25267666 0.64668094 0.65524625]]\n"
     ]
    }
   ],
   "source": [
    "#Two clusters\n",
    "from sklearn.cluster import KMeans\n",
    "kmeans = KMeans(n_clusters=2).fit(x)   \n",
    "y_kmeans = kmeans.fit_predict(x)\n",
    "centroids = kmeans.cluster_centers_\n",
    "print(centroids)"
   ]
  },
  {
   "cell_type": "code",
   "execution_count": 59,
   "metadata": {},
   "outputs": [],
   "source": [
    "y = pd.DataFrame(df.overall)\n",
    "y.columns = ['overall']"
   ]
  },
  {
   "cell_type": "code",
   "execution_count": 60,
   "metadata": {},
   "outputs": [
    {
     "data": {
      "text/plain": [
       "<matplotlib.legend.Legend at 0x15e500c5908>"
      ]
     },
     "execution_count": 60,
     "metadata": {},
     "output_type": "execute_result"
    },
    {
     "data": {
      "image/png": "[encoded data removed]",
      "text/plain": [
       "<Figure size 432x288 with 1 Axes>"
      ]
     },
     "metadata": {},
     "output_type": "display_data"
    }
   ],
   "source": [
    "plt.scatter(x[y_kmeans == 0, 0], x[y_kmeans == 0, 1], s = 100, c = 'red', label = 'Cluster-1')\n",
    "plt.scatter(x[y_kmeans == 1, 0], x[y_kmeans == 1, 1], s = 100, c = 'blue', label = 'Cluster-2')\n",
    "plt.scatter(x[y_kmeans == 2, 0], x[y_kmeans == 2, 1], s = 100, c = 'green', label = 'Cluster-3')\n",
    "\n",
    "#Plotting the centroids of the clusters\n",
    "plt.scatter(kmeans.cluster_centers_[:, 0], kmeans.cluster_centers_[:,1], s = 100, c = 'yellow', label = 'Centroids')\n",
    "\n",
    "plt.legend()"
   ]
  },
  {
   "cell_type": "code",
   "execution_count": 61,
   "metadata": {},
   "outputs": [
    {
     "name": "stdout",
     "output_type": "stream",
     "text": [
      "[[3.36199095 1.0361991  0.64253394 0.69683258]\n",
      " [2.20750552 4.29139073 0.64238411 0.65783664]\n",
      " [1.4202454  1.02760736 0.67484663 0.65644172]]\n"
     ]
    },
    {
     "data": {
      "text/plain": [
       "<matplotlib.legend.Legend at 0x15e500f2eb8>"
      ]
     },
     "execution_count": 61,
     "metadata": {},
     "output_type": "execute_result"
    },
    {
     "data": {
      "image/png": "[encoded data removed]",
      "text/plain": [
       "<Figure size 432x288 with 1 Axes>"
      ]
     },
     "metadata": {},
     "output_type": "display_data"
    }
   ],
   "source": [
    "#Three clusters\n",
    "from sklearn.cluster import KMeans\n",
    "kmeans = KMeans(n_clusters=3).fit(x)   \n",
    "y_kmeans = kmeans.fit_predict(x)\n",
    "centroids = kmeans.cluster_centers_\n",
    "print(centroids) \n",
    "plt.scatter(x[y_kmeans == 0, 0], x[y_kmeans == 0, 1], s = 100, c = 'red', label = 'Cluster-1')\n",
    "plt.scatter(x[y_kmeans == 1, 0], x[y_kmeans == 1, 1], s = 100, c = 'blue', label = 'Cluster-2')\n",
    "plt.scatter(x[y_kmeans == 2, 0], x[y_kmeans == 2, 1], s = 100, c = 'green', label = 'Cluster-3')\n",
    "\n",
    "#Plotting the centroids of the clusters\n",
    "plt.scatter(kmeans.cluster_centers_[:, 0], kmeans.cluster_centers_[:,1], s = 100, c = 'yellow', label = 'Centroids')\n",
    "\n",
    "plt.legend()"
   ]
  },
  {
   "cell_type": "code",
   "execution_count": null,
   "metadata": {},
   "outputs": [],
   "source": []
  }
 ],
 "metadata": {
  "kernelspec": {
   "display_name": "Python 3",
   "language": "python",
   "name": "python3"
  },
  "language_info": {
   "codemirror_mode": {
    "name": "ipython",
    "version": 3
   },
   "file_extension": ".py",
   "mimetype": "text/x-python",
   "name": "python",
   "nbconvert_exporter": "python",
   "pygments_lexer": "ipython3",
   "version": "3.6.5"
  }
 },
 "nbformat": 4,
 "nbformat_minor": 2
}
