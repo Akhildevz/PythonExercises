{
 "cells": [
  {
   "cell_type": "markdown",
   "metadata": {},
   "source": [
    "#Question 1\n",
    "#Write a Python class to convert an integer to a roman numeral. \n",
    "class IntToRoman:\n",
    "    def showInRoman(n):\n",
    "        s=''\n",
    "        dic={1: \"I\", 5: \"V\", 10: \"X\", 50: \"L\", 100: \"C\", 500: \"D\", 1000: \"M\", 5000: \"G\", 10000: \"H\"}\n",
    "        \n",
    "        \n",
    "a=IntToRoman(10)\n",
    "a.show()"
   ]
  },
  {
   "cell_type": "code",
   "execution_count": null,
   "metadata": {
    "collapsed": true
   },
   "outputs": [],
   "source": [
    "#Question 2\n",
    "#Write a Python program to convert a roman numeral to an integer."
   ]
  },
  {
   "cell_type": "code",
   "execution_count": 6,
   "metadata": {},
   "outputs": [
    {
     "name": "stdout",
     "output_type": "stream",
     "text": [
      "Enter any number2\n",
      "Enter power:4\n",
      "16\n"
     ]
    }
   ],
   "source": [
    "#Question 3\n",
    "#Write a Python class to implement pow(x, n).\n",
    "class Power:\n",
    "    def pwr(x, n):\n",
    "        return x**n\n",
    "number=int(input('Enter any number'))\n",
    "power=int(input('Enter power:'))\n",
    "print(Power.pwr(number,power))"
   ]
  },
  {
   "cell_type": "code",
   "execution_count": 12,
   "metadata": {},
   "outputs": [
    {
     "name": "stdout",
     "output_type": "stream",
     "text": [
      "Enter any string:Sakshi Sharma\n",
      "Reversed String: amrahS ihskaS\n"
     ]
    }
   ],
   "source": [
    "#Question 4\n",
    "#Write a Python class to reverse a string word by word.\n",
    "class StrReverse:\n",
    "    def reverseString(myString):\n",
    "        return myString[::-1]\n",
    "String=input('Enter any string:')\n",
    "print('Reversed String:',StrReverse.reverseString(String))"
   ]
  },
  {
   "cell_type": "markdown",
   "metadata": {},
   "source": [
    "Inheritance "
   ]
  },
  {
   "cell_type": "code",
   "execution_count": 17,
   "metadata": {},
   "outputs": [
    {
     "name": "stdout",
     "output_type": "stream",
     "text": [
      "Name: Judo\n",
      "Color: White\n",
      "Breed is: Labra\n"
     ]
    }
   ],
   "source": [
    "#Question 1\n",
    "#Write a python program to implement different types of inheritance with the ‘Animal’ class. \n",
    "#Simple inheritance\n",
    "class Animal:\n",
    "    def getData(self,name,color):\n",
    "        print('Name:',name)\n",
    "        print('Color:',color)\n",
    "class Dog(Animal):\n",
    "    def getBreed(self,breed):\n",
    "        print('Breed is:',breed)\n",
    "Dog1=Dog()\n",
    "Dog1.getData('Judo','White')\n",
    "Dog1.getBreed('Labra')"
   ]
  },
  {
   "cell_type": "code",
   "execution_count": 20,
   "metadata": {},
   "outputs": [
    {
     "name": "stdout",
     "output_type": "stream",
     "text": [
      "Name: Coco\n",
      "Color: Dark\n",
      "Size is: 20 feet\n",
      "Type is: African dwarf\n"
     ]
    }
   ],
   "source": [
    "#Multilevel inheritance\n",
    "class Animal:\n",
    "    def getData(self,name,color):\n",
    "        print('Name:',name)\n",
    "        print('Color:',color)\n",
    "class Reptile(Animal):\n",
    "    def getSize(self,size):\n",
    "        print('Size is:',size)\n",
    "class Crocodile(Reptile):\n",
    "    def getType(self,Type):\n",
    "        print('Type is:',Type)\n",
    "\n",
    "An1=Crocodile()\n",
    "An1.getData('Coco','Dark')\n",
    "An1.getSize('20 feet')\n",
    "An1.getType('African dwarf')"
   ]
  },
  {
   "cell_type": "code",
   "execution_count": 26,
   "metadata": {},
   "outputs": [
    {
     "name": "stdout",
     "output_type": "stream",
     "text": [
      "Name: Coco\n",
      "Color: Dark\n",
      "Size is: 20 feet\n",
      "Type is: African dwarf\n",
      "\n",
      "\n",
      "Name: Lizi\n",
      "Color: Green\n",
      "Size is: 15 inch\n",
      "Skin Type is: Dry & Scaly\n"
     ]
    }
   ],
   "source": [
    "#Hierarchical inheritance\n",
    "class Animal:\n",
    "    def getData(self,name,color):\n",
    "        print('Name:',name)\n",
    "        print('Color:',color)\n",
    "class Reptile(Animal):\n",
    "    def getSize(self,size):\n",
    "        print('Size is:',size)\n",
    "class Crocodile(Reptile):\n",
    "    def getType(self,Type):\n",
    "        print('Type is:',Type)\n",
    "class Lizard(Reptile):\n",
    "    def getSkinType(self,skinType):\n",
    "        print('Skin Type is:',skinType)\n",
    "\n",
    "An1=Crocodile()\n",
    "An1.getData('Coco','Dark')\n",
    "An1.getSize('20 feet')\n",
    "An1.getType('African dwarf')\n",
    "print('\\n')\n",
    "An2=Lizard()\n",
    "An2.getData('Lizi','Green')\n",
    "An2.getSize('15 inch')\n",
    "An2.getSkinType('Dry & Scaly')"
   ]
  },
  {
   "cell_type": "code",
   "execution_count": 27,
   "metadata": {},
   "outputs": [
    {
     "name": "stdout",
     "output_type": "stream",
     "text": [
      "Name: Coco\n",
      "Color: Dark\n",
      "Size is: 20 feet\n"
     ]
    }
   ],
   "source": [
    "#Multiple inheritance\n",
    "class Animal1:\n",
    "    def getName(self,name):\n",
    "        print('Name:',name)\n",
    "class Animal2:\n",
    "    def getColor(self,color):\n",
    "        print('Color:',color)\n",
    "class Reptile(Animal1,Animal2):\n",
    "    def getSize(self,size):\n",
    "        print('Size is:',size)\n",
    "\n",
    "An1=Reptile()\n",
    "An1.getName('Coco')\n",
    "An1.getColor('Dark')\n",
    "An1.getSize('20 feet')"
   ]
  },
  {
   "cell_type": "markdown",
   "metadata": {},
   "source": [
    "Polymorphism\n",
    "1.Write a python program to Implement polymorphism with the following"
   ]
  },
  {
   "cell_type": "code",
   "execution_count": null,
   "metadata": {
    "collapsed": true
   },
   "outputs": [],
   "source": [
    "#Question 1.a\n",
    "#Find the area of triangle, rectangle, circle\n",
    "class Area:\n",
    "    "
   ]
  },
  {
   "cell_type": "code",
   "execution_count": null,
   "metadata": {
    "collapsed": true
   },
   "outputs": [],
   "source": [
    "#Question 1.b\n",
    "#Features of animals "
   ]
  },
  {
   "cell_type": "markdown",
   "metadata": {},
   "source": [
    "Abstraction and encapsulation\n",
    "1.\tWrite a python program to implement abstraction and encapsulation in school management system. Restrict the user by their role,"
   ]
  },
  {
   "cell_type": "code",
   "execution_count": null,
   "metadata": {
    "collapsed": true
   },
   "outputs": [],
   "source": [
    "#Question 1.a\n",
    "#Principal must have access to all the details"
   ]
  },
  {
   "cell_type": "code",
   "execution_count": null,
   "metadata": {
    "collapsed": true
   },
   "outputs": [],
   "source": [
    "#Question 1.b\n",
    "#non-teaching staff – give access to their section only"
   ]
  },
  {
   "cell_type": "code",
   "execution_count": null,
   "metadata": {
    "collapsed": true
   },
   "outputs": [],
   "source": [
    "#Question 1.c\n",
    "#Teaching staff – student details"
   ]
  }
 ],
 "metadata": {
  "kernelspec": {
   "display_name": "Python 3",
   "language": "python",
   "name": "python3"
  },
  "language_info": {
   "codemirror_mode": {
    "name": "ipython",
    "version": 3
   },
   "file_extension": ".py",
   "mimetype": "text/x-python",
   "name": "python",
   "nbconvert_exporter": "python",
   "pygments_lexer": "ipython3",
   "version": "3.6.2"
  }
 },
 "nbformat": 4,
 "nbformat_minor": 2
}
