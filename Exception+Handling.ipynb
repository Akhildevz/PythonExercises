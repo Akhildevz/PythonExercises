{
 "cells": [
  {
   "cell_type": "markdown",
   "metadata": {},
   "source": [
    "Exception Handling\n",
    "1.\tWrite a python program to handle the following exceptions"
   ]
  },
  {
   "cell_type": "code",
   "execution_count": 5,
   "metadata": {},
   "outputs": [
    {
     "name": "stdout",
     "output_type": "stream",
     "text": [
      "IO error\n"
     ]
    }
   ],
   "source": [
    "#Question 1.a\n",
    "#IO error\n",
    "try:\n",
    "    f=open('SomeFile.txt','r')\n",
    "except:\n",
    "    print('IO error')"
   ]
  },
  {
   "cell_type": "code",
   "execution_count": 6,
   "metadata": {},
   "outputs": [
    {
     "name": "stdout",
     "output_type": "stream",
     "text": [
      "Value Error\n"
     ]
    }
   ],
   "source": [
    "#Question 1.b\n",
    "#Value error\n",
    "try:\n",
    "    a=int('Sakshi')\n",
    "except:\n",
    "    print('Value Error')"
   ]
  },
  {
   "cell_type": "code",
   "execution_count": 7,
   "metadata": {},
   "outputs": [
    {
     "name": "stdout",
     "output_type": "stream",
     "text": [
      "Import Error\n"
     ]
    }
   ],
   "source": [
    "#Question 1.c\n",
    "#Import error\n",
    "try:\n",
    "    from math import anything\n",
    "except:\n",
    "    print('Import Error')"
   ]
  },
  {
   "cell_type": "code",
   "execution_count": 8,
   "metadata": {},
   "outputs": [
    {
     "name": "stdout",
     "output_type": "stream",
     "text": [
      "Arithmetic error\n"
     ]
    }
   ],
   "source": [
    "#Question 1.d\n",
    "#Arithmetic error\n",
    "try:\n",
    "    x=2/0\n",
    "except:\n",
    "    print('Arithmetic error')"
   ]
  },
  {
   "cell_type": "code",
   "execution_count": 9,
   "metadata": {},
   "outputs": [
    {
     "name": "stdout",
     "output_type": "stream",
     "text": [
      "Overflow Error\n"
     ]
    }
   ],
   "source": [
    "#Question 1.e\n",
    "#Overflow error\n",
    "import math\n",
    "try:\n",
    "    print(int(math.pow(2, 1024)))\n",
    "except:\n",
    "    print('Overflow Error')"
   ]
  },
  {
   "cell_type": "code",
   "execution_count": 10,
   "metadata": {},
   "outputs": [
    {
     "name": "stdout",
     "output_type": "stream",
     "text": [
      "Zero division error\n"
     ]
    }
   ],
   "source": [
    "#Question 1.f\n",
    "#Zero division error\n",
    "try:\n",
    "    x=2/0\n",
    "except:\n",
    "    print('Zero division error')"
   ]
  },
  {
   "cell_type": "code",
   "execution_count": 11,
   "metadata": {},
   "outputs": [
    {
     "name": "stdout",
     "output_type": "stream",
     "text": [
      "Floating point error\n"
     ]
    }
   ],
   "source": [
    "#Question 1.g\n",
    "#Floating point error\n",
    "a=9.345\n",
    "b=0.00\n",
    "try:\n",
    "    print(a/b)\n",
    "except:\n",
    "    print('Floating point error')"
   ]
  },
  {
   "cell_type": "code",
   "execution_count": 12,
   "metadata": {},
   "outputs": [
    {
     "name": "stdout",
     "output_type": "stream",
     "text": [
      "Name error\n"
     ]
    }
   ],
   "source": [
    "#Question 1.h\n",
    "#Name error\n",
    "try:\n",
    "    print(x)\n",
    "except:\n",
    "    print('Name error')"
   ]
  },
  {
   "cell_type": "code",
   "execution_count": 13,
   "metadata": {},
   "outputs": [
    {
     "name": "stdout",
     "output_type": "stream",
     "text": [
      "Index error\n"
     ]
    }
   ],
   "source": [
    "#Question 1.i\n",
    "#Index error\n",
    "a='Sakshi'\n",
    "try:\n",
    "    print(a[100])\n",
    "except:\n",
    "    print('Index error')"
   ]
  }
 ],
 "metadata": {
  "kernelspec": {
   "display_name": "Python 3",
   "language": "python",
   "name": "python3"
  },
  "language_info": {
   "codemirror_mode": {
    "name": "ipython",
    "version": 3
   },
   "file_extension": ".py",
   "mimetype": "text/x-python",
   "name": "python",
   "nbconvert_exporter": "python",
   "pygments_lexer": "ipython3",
   "version": "3.6.2"
  }
 },
 "nbformat": 4,
 "nbformat_minor": 2
}
