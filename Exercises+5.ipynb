{
 "cells": [
  {
   "cell_type": "code",
   "execution_count": null,
   "metadata": {},
   "outputs": [],
   "source": [
    "#Question 1\n",
    "#Write a Program to Count the Number of Vowels Present in a String using Sets\n",
    "s=input('Enter any string:')\n",
    "vow={'a','e','i','o','u'}\n",
    "vow_count=0\n",
    "for i in vow:\n",
    "    for x in s:\n",
    "        if i==x:\n",
    "            vow_count+=1\n",
    "print('Number of vowels in string are:',vow_count)\n",
    "    "
   ]
  },
  {
   "cell_type": "code",
   "execution_count": null,
   "metadata": {},
   "outputs": [],
   "source": [
    "#Question 2\n",
    "#Write a Python Program to Check Common Letters in Two Input Strings\n",
    "s1=set(input('Enter string 1:'))\n",
    "s2=set(input('Enter string 2:'))\n",
    "s3=s1.intersection(s2)\n",
    "print('Common letters are:')\n",
    "for x in s3:\n",
    "    print(x,end=' ')"
   ]
  },
  {
   "cell_type": "code",
   "execution_count": null,
   "metadata": {},
   "outputs": [],
   "source": [
    "#Question 3\n",
    "#Displays which Letters are in the First String but not in the Second\n",
    "s1=set(input('Enter string 1:'))\n",
    "s2=set(input('Enter string 2:'))\n",
    "s3=s1.difference(s2)\n",
    "print('Letters of First String but not in the Second are:')\n",
    "for x in s3:\n",
    "    print(x,end=' ')"
   ]
  },
  {
   "cell_type": "code",
   "execution_count": null,
   "metadata": {
    "collapsed": true
   },
   "outputs": [],
   "source": [
    "#Question 4\n",
    "#Write a Python Program to Displays which Letters are Present in Both the Strings\n",
    "#Same as Question 2"
   ]
  },
  {
   "cell_type": "code",
   "execution_count": null,
   "metadata": {},
   "outputs": [],
   "source": [
    "#Question 5\n",
    "#Write a Python Program to print which Letters are in the Two Strings but not in Both\n",
    "s1=set(input('Enter string 1:'))\n",
    "s2=set(input('Enter string 2:'))\n",
    "s3=s1.symmetric_difference(s2)\n",
    "print('Letters that are in the Two Strings but not in Both:')\n",
    "for x in s3:\n",
    "    print(x,end=' ')"
   ]
  }
 ],
 "metadata": {
  "kernelspec": {
   "display_name": "Python 3",
   "language": "python",
   "name": "python3"
  },
  "language_info": {
   "codemirror_mode": {
    "name": "ipython",
    "version": 3
   },
   "file_extension": ".py",
   "mimetype": "text/x-python",
   "name": "python",
   "nbconvert_exporter": "python",
   "pygments_lexer": "ipython3",
   "version": "3.6.2"
  }
 },
 "nbformat": 4,
 "nbformat_minor": 2
}
