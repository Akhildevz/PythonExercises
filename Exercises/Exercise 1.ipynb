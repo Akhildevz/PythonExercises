{
 "cells": [
  {
   "cell_type": "code",
   "execution_count": null,
   "metadata": {},
   "outputs": [],
   "source": [
    "#Question 1\n",
    "#Sum of n numbers\n",
    "sum=0\n",
    "n=int(input(\"Enter n:\"));\n",
    "print('Enter ',n,'numbers :')\n",
    "for n in range(0,n):\n",
    "    sum+=int(input())\n",
    "print('Sum: ',sum);"
   ]
  },
  {
   "cell_type": "code",
   "execution_count": null,
   "metadata": {},
   "outputs": [],
   "source": [
    "#Question 2\n",
    "#Check for prime\n",
    "import math\n",
    "flag=0\n",
    "n = float(input('Enter any number:'));\n",
    "for i in range(2,int(math.sqrt(n))+1):\n",
    "    if n%i==0:\n",
    "        flag=1;\n",
    "        break;\n",
    "if flag==1:\n",
    "    print(n,' is not a prime number')\n",
    "else:\n",
    "    print(n,' is a prime number')"
   ]
  },
  {
   "cell_type": "code",
   "execution_count": null,
   "metadata": {},
   "outputs": [],
   "source": [
    "#Question 3\n",
    "#Area of triangle\n",
    "import math\n",
    "print('Enter the sides of triangle:')\n",
    "a=float(input('Enter a:'))\n",
    "b=float(input('Enter b:'))\n",
    "c=float(input('Enter c:'))\n",
    "s=(a+b+c)/2;\n",
    "if s*(s-a)*(s-b)*(s-c) <0:\n",
    "    print('Area of triangle is not possible')\n",
    "else:\n",
    "    print('Area of the triangle is: ',math.sqrt(s*(s-a)*(s-b)*(s-c)))"
   ]
  },
  {
   "cell_type": "code",
   "execution_count": null,
   "metadata": {},
   "outputs": [],
   "source": [
    "#Question 4\n",
    "#Swapping 2 vriables\n",
    "a=int(input('Enter a:'))\n",
    "b=int(input('Enter b:'))\n",
    "print('Values of a & b before swapping: a=',a,' b=',b)\n",
    "a=a+b;\n",
    "b=a-b;\n",
    "a=a-b;\n",
    "print('Values of a & b after swapping: a=',a,'b=',b)"
   ]
  },
  {
   "cell_type": "code",
   "execution_count": null,
   "metadata": {
    "collapsed": true
   },
   "outputs": [],
   "source": [
    "# Question 5\n",
    "#Quadratic Equation\n",
    "import math\n",
    "print('In Equation ax^2 + bx + c')\n",
    "a=float(input('Enter a:'))\n",
    "b=float(input('Enter b:'))\n",
    "c=float(input('Enter c:'))\n",
    "if (b*b-4*a*c)<0:\n",
    "    print ('Please enter real values only')\n",
    "else:\n",
    "    x=math.sqrt(b*b-4*a*c)\n",
    "    x1=(-b+x)/(2*a)\n",
    "    x2=(-b-x)/(2*a)\n",
    "    print('Roots are:',x1,'&',x2)"
   ]
  },
  {
   "cell_type": "code",
   "execution_count": null,
   "metadata": {},
   "outputs": [],
   "source": [
    "#Question 6\n",
    "#Leap Year\n",
    "y=int(input('Enter the year: '))\n",
    "if (y%100!=0 and y%4==0) or (y%400==0):\n",
    "    print(y,'is a leap year')\n",
    "else: \n",
    "    print(y,'is not a leap year')"
   ]
  },
  {
   "cell_type": "code",
   "execution_count": null,
   "metadata": {},
   "outputs": [],
   "source": [
    "#Question 7\n",
    "#Calculator\n",
    "print ('Enter any 2 numbers')\n",
    "a=int(input())\n",
    "b=int(input())\n",
    "print('Enter the type of operation')\n",
    "c=input()\n",
    "if c=='+':\n",
    "    print(a+b)\n",
    "if c=='-':\n",
    "    print(a-b)\n",
    "if c=='*':\n",
    "    print(a*b)\n",
    "if c=='/':\n",
    "    if b!=0:\n",
    "        print(a/b)\n",
    "if c=='%':\n",
    "    print(a%b)"
   ]
  },
  {
   "cell_type": "code",
   "execution_count": null,
   "metadata": {},
   "outputs": [],
   "source": [
    "#Question 8\n",
    "#to check positive, negative of zero\n",
    "a = int(input('Enter any number: '))\n",
    "if a>0:\n",
    "    print(a,'is positive')\n",
    "else:\n",
    "    if a<0:\n",
    "        print(a,'is negative')\n",
    "    else:\n",
    "        print(a, 'is zero')"
   ]
  },
  {
   "cell_type": "code",
   "execution_count": null,
   "metadata": {},
   "outputs": [],
   "source": [
    "#Question 9\n",
    "#Even or Odd\n",
    "a=int(input('Enter any number'))\n",
    "if a%2==0:\n",
    "    print(a,'is even')\n",
    "else:\n",
    "    print(a,'is odd')"
   ]
  },
  {
   "cell_type": "code",
   "execution_count": null,
   "metadata": {},
   "outputs": [],
   "source": [
    "# Question 10\n",
    "#Factorial\n",
    "a=int(input('Enter any number:'))\n",
    "fac=1\n",
    "for i in range(1,a+1):\n",
    "    fac*=i\n",
    "print('Factorial of ',a,'is:',fac)"
   ]
  },
  {
   "cell_type": "code",
   "execution_count": null,
   "metadata": {},
   "outputs": [],
   "source": [
    "#Question 11\n",
    "#Multiplication table\n",
    "a=int(input('Enter any number:'))\n",
    "for i in range(1,11):\n",
    "    print(a,'x',i,'=',a*i)"
   ]
  },
  {
   "cell_type": "code",
   "execution_count": null,
   "metadata": {},
   "outputs": [],
   "source": [
    "#Question 12\n",
    "#Fibonacci series\n",
    "n=int(input('Enter the number of terms:'))\n",
    "a=0\n",
    "b=1\n",
    "c=a+b\n",
    "print('Fibonacci Series:')\n",
    "if n>=1:\n",
    "    print('0',end=' ');\n",
    "    if n>=2:\n",
    "        for i in range(1,n):\n",
    "            print(c,end=' ')\n",
    "            c=a+b\n",
    "            a=b\n",
    "            b=c"
   ]
  },
  {
   "cell_type": "code",
   "execution_count": null,
   "metadata": {},
   "outputs": [],
   "source": [
    "#Question 13\n",
    "#Largest & Smallest in 3 digit number\n",
    "n=int(input('Enter any 3 digit number:'))\n",
    "a=n%10;\n",
    "b=int((n/10)%10)\n",
    "c=int((n/100)%10)\n",
    "if a>b and a>c:\n",
    "    if b>c:\n",
    "        print('Largest:',a,'\\nSmallest:',c)\n",
    "    else:\n",
    "        print('Largest:',a,'\\nSmallest:',b)\n",
    "elif b>a and b>c:\n",
    "    if a>c:\n",
    "        print('Largest:',b,'\\nSmallest:',c)\n",
    "    else:\n",
    "        print('Largest:',b,'\\nSmallest:',a)\n",
    "elif a>b:\n",
    "    print('Largest:',c,'\\nSmallest:',b)\n",
    "else:\n",
    "    print('Largest:',c,'\\nSmallest:',a)"
   ]
  },
  {
   "cell_type": "code",
   "execution_count": null,
   "metadata": {},
   "outputs": [],
   "source": [
    "#Question 14 (a)\n",
    "#Conversion Kilometers to miles & Vice versa\n",
    "a=int(input('Enter any distance:'))\n",
    "b=int(input('1 Kilometers to Miles \\n2 Miles to Kilometers \\nSelect operation: '))\n",
    "if b==1:\n",
    "    print(a,'km in Miles is:',a*0.621371,end=' mile')\n",
    "elif b==2:\n",
    "    print(a,'mile in Kilometers is:',a*1.60934,end=' km')"
   ]
  },
  {
   "cell_type": "code",
   "execution_count": null,
   "metadata": {},
   "outputs": [],
   "source": [
    "#Question 14 (b)\n",
    "#Conversion Celsius to FahrenHeit & Vice versa\n",
    "a=int(input('Enter any Temperature:'))\n",
    "b=int(input('1 Celsius to FahrenHeit \\n2 FahrenHeit to Celsius \\nSelect operation: '))\n",
    "if b==1:\n",
    "    print(a,' in FahrenHeit is:',(a*9)/5+32)\n",
    "elif b==2:\n",
    "    print(a,' in Celsius is:',(a-32)*5/9)"
   ]
  },
  {
   "cell_type": "code",
   "execution_count": null,
   "metadata": {},
   "outputs": [],
   "source": [
    "#Question 14 (c)\n",
    "#Conversion in Binary, octal & hexadecimal\n",
    "a=int(input('Enter any number:'))\n",
    "b=int(input('Conversion to: \\n1 Binary  \\n2 Octal \\n3 Hexadecimal \\nSelect operation: '))\n",
    "if b==1:\n",
    "    print(a,' in Binary is:',bin(a)[2:])\n",
    "elif b==2:\n",
    "    print(a,' in Octal is:',oct(a)[2:])\n",
    "elif b==3:\n",
    "    print(a,' in Hexadecimal is:',hex(a)[2:])"
   ]
  }
 ],
 "metadata": {
  "kernelspec": {
   "display_name": "Python 3",
   "language": "python",
   "name": "python3"
  },
  "language_info": {
   "codemirror_mode": {
    "name": "ipython",
    "version": 3
   },
   "file_extension": ".py",
   "mimetype": "text/x-python",
   "name": "python",
   "nbconvert_exporter": "python",
   "pygments_lexer": "ipython3",
   "version": "3.6.2"
  }
 },
 "nbformat": 4,
 "nbformat_minor": 2
}
