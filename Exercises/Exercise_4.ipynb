{
 "cells": [
  {
   "cell_type": "code",
   "execution_count": null,
   "metadata": {},
   "outputs": [],
   "source": [
    "#Question 1\n",
    "#Dictionary with name & Roll number\n",
    "MyDic={}\n",
    "n=int(input('Enter number of students:'))\n",
    "for x in range(0,n):\n",
    "    print('Student:',x+1)\n",
    "    roll=input('\\tEnter Roll Number:')\n",
    "    name=input('\\tEnter name:')\n",
    "    MyDic[roll]=name\n",
    "print('Created dictionary:',MyDic)"
   ]
  },
  {
   "cell_type": "code",
   "execution_count": null,
   "metadata": {},
   "outputs": [],
   "source": [
    "#Question 2\n",
    "#Merging 2 Dictionaries\n",
    "Dic1={'1': 'Sakshi', '2': 'Amar', '3': 'Neha', '4': 'Amit'}\n",
    "Dic2={'5': 'Samarth', '6': 'Aditya', '7': 'Niyati'}\n",
    "Dic1.update(Dic2)\n",
    "print('Created dictionary:',Dic1)"
   ]
  },
  {
   "cell_type": "code",
   "execution_count": null,
   "metadata": {},
   "outputs": [],
   "source": [
    "#Question 3\n",
    "#Check if key exists\n",
    "Dic1={'1': 'Sakshi', '2': 'Amar', '3': 'Neha', '4': 'Amit'}\n",
    "key=input('Enter key')\n",
    "if key in Dic1:\n",
    "    print(key,':',Dic1[key])\n",
    "else:\n",
    "    print('Error')"
   ]
  },
  {
   "cell_type": "code",
   "execution_count": null,
   "metadata": {},
   "outputs": [],
   "source": [
    "#Question 4\n",
    "#Generate dictionary b/w 1-n n the form (x,x*x)\n",
    "n=int(input('Enter the limit:'))\n",
    "dic={}\n",
    "for x in range(1,n+1):\n",
    "    dic[x]=x*x\n",
    "print('Generated dictionary:',dic)"
   ]
  },
  {
   "cell_type": "code",
   "execution_count": null,
   "metadata": {},
   "outputs": [],
   "source": [
    "#Question 5\n",
    "#Sum of items in dictionary\n",
    "n=int(input('Enter number of values in the dictionary:'))\n",
    "print('Enter values in the dictionary:')\n",
    "dic={}\n",
    "s=0\n",
    "for x in range(1,n+1):\n",
    "    d='data'+str(x)\n",
    "    print(d,end=': ')\n",
    "    dic[d]=int(input())\n",
    "print('Sum:',sum(dic.values()))"
   ]
  },
  {
   "cell_type": "code",
   "execution_count": null,
   "metadata": {},
   "outputs": [],
   "source": [
    "#Question 6\n",
    "#Multiply all the Items in a Dictionary\n",
    "n=int(input('Enter number of values in the dictionary:'))\n",
    "print('Enter values in the dictionary:')\n",
    "dic={}\n",
    "prod=1\n",
    "for x in range(1,n+1):\n",
    "    d='data'+str(x)\n",
    "    print(d,end=': ')\n",
    "    dic[d]=int(input())\n",
    "for x in dic.values():\n",
    "    prod*=x\n",
    "print('Product:',prod)"
   ]
  },
  {
   "cell_type": "code",
   "execution_count": null,
   "metadata": {},
   "outputs": [],
   "source": [
    "#Question 7\n",
    "#Write a python program to Map Two Lists into a Dictionary\n",
    "print('Enter 2 equal sized lists\\nEnter List1:')\n",
    "list1=[x for x in input().split()]\n",
    "print('Enter List2:')\n",
    "list2=[x for x in input().split()]\n",
    "dic={}\n",
    "i=0\n",
    "for x in list1:\n",
    "    dic[x]=list2[i]\n",
    "    i+=1\n",
    "print('Created dictionary:',dic)"
   ]
  },
  {
   "cell_type": "code",
   "execution_count": null,
   "metadata": {},
   "outputs": [],
   "source": [
    "#Question 8\n",
    "#Write a Python Program to Count the Frequency of Words Appearing in a String Using a Dictionary\n",
    "S=input('Enter any string')\n",
    "dic={}\n",
    "a=S.split(' ')\n",
    "for x in a:\n",
    "    if x in dic:\n",
    "        dic[x]+=1;\n",
    "    else:\n",
    "        dic[x]=1\n",
    "print('Created dictionary:',dic)"
   ]
  },
  {
   "cell_type": "code",
   "execution_count": null,
   "metadata": {},
   "outputs": [],
   "source": [
    "#Question 9\n",
    "#Python Program to Create a Dictionary with Key as First Character and Value as Words Starting with that Character\n",
    "S=input('Enter any string')\n",
    "dic={}\n",
    "a=S.split(' ')\n",
    "for x in a:\n",
    "        dic[x[0]]=x\n",
    "print('Created dictionary:',dic)"
   ]
  },
  {
   "cell_type": "code",
   "execution_count": null,
   "metadata": {},
   "outputs": [],
   "source": [
    "#Question 10\n",
    "#Create a dictionary with name and marks of 10 students and Print the dictionary. Sort students with their marks and print the result.\n",
    "import operator\n",
    "dic={}\n",
    "for x in range(0,10):\n",
    "    print('Student',x+1)\n",
    "    name=input('\\tEnter name of student:')\n",
    "    marks=int(input('\\tEnter marks of student:'))\n",
    "    dic[name]=marks;\n",
    "li=sorted(dic.values())\n",
    "print('Sorted result of students:')\n",
    "for y in li:\n",
    "    for x in dic:\n",
    "        if dic[x]==y:\n",
    "            print(x,':',dic[x])\n",
    "    "
   ]
  }
 ],
 "metadata": {
  "kernelspec": {
   "display_name": "Python 3",
   "language": "python",
   "name": "python3"
  },
  "language_info": {
   "codemirror_mode": {
    "name": "ipython",
    "version": 3
   },
   "file_extension": ".py",
   "mimetype": "text/x-python",
   "name": "python",
   "nbconvert_exporter": "python",
   "pygments_lexer": "ipython3",
   "version": "3.6.2"
  }
 },
 "nbformat": 4,
 "nbformat_minor": 2
}
