{
 "cells": [
  {
   "cell_type": "code",
   "execution_count": 1,
   "metadata": {},
   "outputs": [
    {
     "name": "stdout",
     "output_type": "stream",
     "text": [
      "['One', 'Two', 'Three', 'Four', 'Five', 'Six', 'Seven', 'Eight', 'Nine', 'Ten']\n"
     ]
    }
   ],
   "source": [
    "#Question 1 (a)\n",
    "#Create list of min 8 Elements\n",
    "MyList=[\"One\",\"Two\",\"Three\",\"Four\",\"Five\",\"Six\",\"Seven\",\"Eight\",\"Nine\",\"Ten\"]\n",
    "print(MyList)"
   ]
  },
  {
   "cell_type": "code",
   "execution_count": null,
   "metadata": {},
   "outputs": [
    {
     "name": "stdout",
     "output_type": "stream",
     "text": [
      "Enter elements in list:\n"
     ]
    }
   ],
   "source": [
    "#Question 1 (b)\n",
    "#Largest & Second largest in the list\n",
    "print(\"Enter elements in list:\")\n",
    "MyList=[int(x) for x in input().split()]\n",
    "max1=MyList[0]\n",
    "max2=MyList[1]\n",
    "for x in MyList:\n",
    "    if x>max1:\n",
    "        max1=x\n",
    "    if x>max2 and x!=max1:\n",
    "        max2=x\n",
    "print(\"largest:\",max1,\"\\nSecond Largest\",max2)\n",
    "            "
   ]
  },
  {
   "cell_type": "code",
   "execution_count": null,
   "metadata": {},
   "outputs": [],
   "source": [
    "#Question 2\n",
    "#Return 2 lists aftr merging and sorting\n",
    "list1=[5,8,2,8,3,4,9,0,2]\n",
    "list2=[3,8,3,5,7,8,0,2]\n",
    "list3=list1+list2\n",
    "print(sorted(list3))"
   ]
  },
  {
   "cell_type": "code",
   "execution_count": null,
   "metadata": {},
   "outputs": [],
   "source": [
    "#Question 3\n",
    "#Union & Intesection of two lists\n",
    "list1=[5,8,2,8,3,4,9,0,2]\n",
    "list2=[3,8,3,5,7,8,0,2]\n",
    "\n",
    "print('Union:',Union(list1,list2))\n",
    "print('Intersection:',Intersection(list1,list2))"
   ]
  },
  {
   "cell_type": "code",
   "execution_count": null,
   "metadata": {},
   "outputs": [],
   "source": [
    "#Question 4\n",
    "#Create a list & print\n",
    "A=[1,2,3,4,5,6,7,8,9,10]\n",
    "#(a) 3rd & 6th element\n",
    "print('(a)3rd & 6th element:')\n",
    "print('Third Element:',A[2],'\\nSixth Element:',A[5])\n",
    "\n",
    "#(b)First 5 elements\n",
    "print('\\n(b)First 5 elements:')\n",
    "for x in A[:5]:\n",
    "    print(x,end=' ')\n",
    "\n",
    "#(c)Elements 7th to end\n",
    "print('\\n\\n(c)Elements 7th to end:')\n",
    "for x in A[6:]:\n",
    "    print(x,end=' ')\n",
    "    \n",
    "#(d)Change 2nd & 5th element by 'x' & 'y'\n",
    "print('\\n\\n(d)Change 2nd & 5th element by \\'x\\' & \\'y\\':')\n",
    "A[1]='x'\n",
    "A[4]='y'\n",
    "print(A)\n",
    "\n",
    "#(e)Delete 5th element & print list\n",
    "print('\\n(e)Delete 5th element & print list:')\n",
    "A.pop(4)\n",
    "print(A)\n",
    "\n",
    "#(f)Count number of elements\n",
    "print('\\n(f)Count number of elements:')\n",
    "print('Number of elements in list are:',len(A))"
   ]
  },
  {
   "cell_type": "code",
   "execution_count": null,
   "metadata": {},
   "outputs": [],
   "source": [
    "#Question 5\n",
    "#Number of times a number occured in list & to print largest even & odd in list\n",
    "import collections\n",
    "List=[int(x) for x in input().split()]\n",
    "#Number of times a number occured in list\n",
    "print('Number of times a number occured in list:')\n",
    "MyList=list(set(List))\n",
    "for x in MyList:\n",
    "    print('Count of',x,'in list:',List.count(x))\n",
    "\n",
    "#Print largest even & odd in list:\n",
    "print('\\nPrint largest even & odd in list:')\n",
    "e=o=0\n",
    "MyList=sorted(MyList,reverse=True)\n",
    "#print(MyList)\n",
    "for x in MyList:\n",
    "    if e==1 and o==1:\n",
    "        break\n",
    "    if x%2==0 and e!=1:\n",
    "        print('Largest even:',x)\n",
    "        e=1\n",
    "    elif x%2!=0 and o!=1:\n",
    "        print('Largest odd:',x)\n",
    "        o=1\n"
   ]
  },
  {
   "cell_type": "code",
   "execution_count": null,
   "metadata": {},
   "outputs": [],
   "source": [
    "#Question 6\n",
    "#List of tuples for first element as number & Second as square of number\n",
    "print('Enter elements:')\n",
    "list1=[int(x) for x in input().split()]\n",
    "c=[(x,x**2) for x in list1]\n",
    "print(c)\n",
    "#(a)Sort elements in ascendig order\n",
    "c=sorted(c)\n",
    "print(c)"
   ]
  },
  {
   "cell_type": "code",
   "execution_count": null,
   "metadata": {},
   "outputs": [],
   "source": [
    "#Question 7\n",
    "#Random numbers form 1-20 in list\n",
    "import random\n",
    "List=[]\n",
    "for x in range(0,20):\n",
    "    List.append(random.randint(1,20))\n",
    "print(List)"
   ]
  },
  {
   "cell_type": "code",
   "execution_count": null,
   "metadata": {},
   "outputs": [],
   "source": [
    "#Question 8\n",
    "#Solve polynomial equation using sorted list\n",
    "print('Enter the coefficients of the polynomial')\n",
    "List=[int(x) for x in input().split()]\n",
    "List=sorted(List)\n",
    "x=int(input('Enter the value of x'))\n",
    "print('Formed equation is:')\n",
    "n=len(List)\n",
    "i=1\n",
    "res=0\n",
    "for x in List:\n",
    "    print('(',x,') x^',n-i,'+',end=' ')\n",
    "    res+=x**(n-i)\n",
    "    i+=1\n",
    "print('\\b\\b \\nResult is:', res)"
   ]
  },
  {
   "cell_type": "code",
   "execution_count": null,
   "metadata": {},
   "outputs": [],
   "source": [
    "#Question 9\n",
    "#To find perfect squares & sum of all digits less than 10\n",
    "import math\n",
    "print('Enter list:')\n",
    "List=[int(x) for x in input().split()]\n",
    "#Perfect square\n",
    "print('Perfect Squares in List are:')\n",
    "for x in List:\n",
    "    root=math.sqrt(x)\n",
    "    if x==root*root:\n",
    "        print(x)\n",
    "    else:\n",
    "        continue\n",
    "\n",
    "#Sum of Digits is less than 10\n",
    "print('Sum of Digits is less than 10 in numbers:')\n",
    "for x in List:\n",
    "    su=0\n",
    "    n=x\n",
    "    while n>0:\n",
    "        su+=n%10\n",
    "        n/=10\n",
    "    if su<10:\n",
    "        print(x)"
   ]
  },
  {
   "cell_type": "code",
   "execution_count": null,
   "metadata": {},
   "outputs": [],
   "source": [
    "#Question 10\n",
    "#Cumulative sum\n",
    "print('Enter list:')\n",
    "List=[int(x) for x in input().split()]\n",
    "i=s=0\n",
    "for x in List:\n",
    "    List[i]=s+List[i]\n",
    "    s+=List[i]\n",
    "    i+=1\n",
    "print('Cumulative sum list is:',List)"
   ]
  }
 ],
 "metadata": {
  "kernelspec": {
   "display_name": "Python 3",
   "language": "python",
   "name": "python3"
  },
  "language_info": {
   "codemirror_mode": {
    "name": "ipython",
    "version": 3
   },
   "file_extension": ".py",
   "mimetype": "text/x-python",
   "name": "python",
   "nbconvert_exporter": "python",
   "pygments_lexer": "ipython3",
   "version": "3.6.2"
  }
 },
 "nbformat": 4,
 "nbformat_minor": 2
}
