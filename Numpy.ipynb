{
 "cells": [
  {
   "cell_type": "code",
   "execution_count": 13,
   "metadata": {},
   "outputs": [
    {
     "name": "stdout",
     "output_type": "stream",
     "text": [
      "Enter numbers in list:5 7 8 \n",
      "My Numpy array is: [5 7 8]\n"
     ]
    }
   ],
   "source": [
    "#Question 1\n",
    "#Write a Python program to convert a list of numeric value into a one-dimensional NumPy array.\n",
    "import numpy as np\n",
    "print('Enter numbers in list:',end='')\n",
    "myList=[int(x) for x in input().split()]\n",
    "arr=np.array(myList)\n",
    "print('My Numpy array is:',arr)"
   ]
  },
  {
   "cell_type": "code",
   "execution_count": 15,
   "metadata": {},
   "outputs": [
    {
     "name": "stdout",
     "output_type": "stream",
     "text": [
      "[[ 2  3  4]\n",
      " [ 5  6  7]\n",
      " [ 8  9 10]]\n"
     ]
    }
   ],
   "source": [
    "#Question 2\n",
    "#Create a 3x3 matrix with values ranging from 2 to 10.\n",
    "a=np.arange(2,11).reshape(3,3)\n",
    "print(a)"
   ]
  },
  {
   "cell_type": "code",
   "execution_count": 18,
   "metadata": {},
   "outputs": [
    {
     "name": "stdout",
     "output_type": "stream",
     "text": [
      "[  0.   0.   0.   0.   0.  11.   0.   0.   0.   0.]\n"
     ]
    }
   ],
   "source": [
    "#Question 3\n",
    "#Write a Python program to create a null vector of size 10 and update sixth value to 11.\n",
    "a=np.zeros(10)\n",
    "a[5]=11\n",
    "print(a)"
   ]
  },
  {
   "cell_type": "code",
   "execution_count": 20,
   "metadata": {},
   "outputs": [
    {
     "name": "stdout",
     "output_type": "stream",
     "text": [
      "[12 13 14 15 16 17 18 19 20 21 22 23 24 25 26 27 28 29 30 31 32 33 34 35 36\n",
      " 37 38]\n"
     ]
    }
   ],
   "source": [
    "#Question 4\n",
    "#Write a Python program to create a array with values ranging from 12 to 38.\n",
    "a=np.arange(12,39)\n",
    "print(a)"
   ]
  },
  {
   "cell_type": "code",
   "execution_count": 31,
   "metadata": {},
   "outputs": [
    {
     "name": "stdout",
     "output_type": "stream",
     "text": [
      "4 7 0 3\n",
      "Reversed array is: [3 0 7 4]\n"
     ]
    }
   ],
   "source": [
    "#Question 5\n",
    "#Write a Python program to reverse an array (first element becomes last).\n",
    "a=np.array([int(x) for x in input().split()])\n",
    "a=a[::-1]\n",
    "print('Reversed array is:',a)"
   ]
  },
  {
   "cell_type": "code",
   "execution_count": 32,
   "metadata": {},
   "outputs": [
    {
     "name": "stdout",
     "output_type": "stream",
     "text": [
      "1 2 3 4\n",
      "[ 1.  2.  3.  4.]\n"
     ]
    }
   ],
   "source": [
    "#Question 6\n",
    "#Write a Python program to an int array converted to a float type.\n",
    "a=np.array([int(x) for x in input().split()])\n",
    "a=a.astype(float)\n",
    "print('Int type array to float type:',a)"
   ]
  },
  {
   "cell_type": "code",
   "execution_count": 54,
   "metadata": {},
   "outputs": [
    {
     "name": "stdout",
     "output_type": "stream",
     "text": [
      "[[ 1.  1.  1.  1.  1.]\n",
      " [ 1.  0.  0.  0.  1.]\n",
      " [ 1.  0.  0.  0.  1.]\n",
      " [ 1.  0.  0.  0.  1.]\n",
      " [ 1.  1.  1.  1.  1.]]\n"
     ]
    }
   ],
   "source": [
    "#Question 7\n",
    "#Write a Python program to create a 2d array (5x5) with 1 on the border and 0 inside.\n",
    "a=np.zeros((5,5))\n",
    "a[:,0:1]=a[4:5,:]=a[0:1, :]=a[:,4:5]=1\n",
    "print('Resulting array:',a)"
   ]
  },
  {
   "cell_type": "code",
   "execution_count": 78,
   "metadata": {},
   "outputs": [
    {
     "name": "stdout",
     "output_type": "stream",
     "text": [
      "1 2 3\n",
      "Number of elements in array: 3\n",
      "Length of one array element in bytes: 16\n",
      "total bytes consumed by the elements: 60\n"
     ]
    }
   ],
   "source": [
    "#Question 8\n",
    "#Write a Python program to find the number of elements of an array, length of one array element in bytes and total bytes consumed by the elements.\n",
    "import sys\n",
    "a=np.array([int(x) for x in input().split()])\n",
    "print('Number of elements in array:',a.size)\n",
    "print('Length of one array element in bytes:',sys.getsizeof(a[0]))\n",
    "print('total bytes consumed by the elements:',sys.getsizeof(a))"
   ]
  },
  {
   "cell_type": "code",
   "execution_count": 83,
   "metadata": {},
   "outputs": [
    {
     "name": "stdout",
     "output_type": "stream",
     "text": [
      "1 2 3 4\n",
      "Returned array is: [ 1  8 27 64]\n"
     ]
    }
   ],
   "source": [
    "#Question 9\n",
    "#Write a Python program to create a function cube which cubes all the elements of an array.\n",
    "a=np.array([int(x) for x in input().split()])\n",
    "def cube(a):\n",
    "    return a**3\n",
    "print('Returned array is:',cube(a))"
   ]
  },
  {
   "cell_type": "code",
   "execution_count": 109,
   "metadata": {},
   "outputs": [
    {
     "name": "stdout",
     "output_type": "stream",
     "text": [
      "[[  1.   2.   3.   4.   5.   0.]\n",
      " [  6.   7.   8.   9.  10.   0.]\n",
      " [ 11.  12.  13.  14.  15.   0.]\n",
      " [ 16.  17.  18.  19.  20.   0.]\n",
      " [ 21.  22.  23.  24.  25.   0.]]\n"
     ]
    }
   ],
   "source": [
    "#Question 10\n",
    "#Write a Python program to how to add an extra column to an numpy array.\n",
    "a=np.arange(1,26).reshape(5,5)\n",
    "b=np.zeros((5,1))\n",
    "a=np.append(a, b, axis=1)\n",
    "print('New array with extra column:',a)"
   ]
  },
  {
   "cell_type": "code",
   "execution_count": 124,
   "metadata": {},
   "outputs": [
    {
     "name": "stdout",
     "output_type": "stream",
     "text": [
      "4 7 -5 8\n",
      "[4 7 0 8]\n"
     ]
    }
   ],
   "source": [
    "#Question 11\n",
    "#Write a Python program to remove the negative values in a numpy array with 0.\n",
    "a=np.array([int(x) for x in input().split()])\n",
    "while a[np.argmin(a,axis=0)]<0:\n",
    "    a[np.argmin(a,axis=0)]=0\n",
    "print(a)"
   ]
  },
  {
   "cell_type": "code",
   "execution_count": 125,
   "metadata": {},
   "outputs": [
    {
     "name": "stdout",
     "output_type": "stream",
     "text": [
      "[1, 2, 3, 1, 2, 3, 1, 2, 3]\n"
     ]
    }
   ],
   "source": [
    "#Question 12\n",
    "#Create a  one dimensional array with 3 elements. Extend the array by repeating the current elements, 3 times.\n",
    "a=[1,2,3]\n",
    "a=a*3\n",
    "print(a)"
   ]
  },
  {
   "cell_type": "code",
   "execution_count": 136,
   "metadata": {},
   "outputs": [
    {
     "name": "stdout",
     "output_type": "stream",
     "text": [
      "Enter first array:1 2 3\n",
      "Enter Second array:4 6 8\n",
      "These are Different arrays\n"
     ]
    }
   ],
   "source": [
    "#Question 13\n",
    "#Write a Python program compare two arrays using numpy.\n",
    "print('Enter first array:',end='')\n",
    "a=np.array([int(x) for x in input().split()])\n",
    "print('Enter Second array:',end='')\n",
    "b=np.array([int(x) for x in input().split()])\n",
    "if np.array_equal(a,b):\n",
    "    print('These are Same arrays')\n",
    "else:\n",
    "    print('These are Different arrays')"
   ]
  },
  {
   "cell_type": "code",
   "execution_count": 142,
   "metadata": {},
   "outputs": [
    {
     "name": "stdout",
     "output_type": "stream",
     "text": [
      "1 2 3 4\n",
      "Size of NumPy array in bytes is: 64\n"
     ]
    }
   ],
   "source": [
    "#Question 14\n",
    "#Write a Python program to find the memory size of a NumPy array.\n",
    "a=np.array([int(x) for x in input().split()])\n",
    "print('Size of NumPy array in bytes is:',sys.getsizeof(a))"
   ]
  },
  {
   "cell_type": "code",
   "execution_count": 148,
   "metadata": {},
   "outputs": [
    {
     "name": "stdout",
     "output_type": "stream",
     "text": [
      "Before:\n",
      " [[ 0.42616857  0.49446928  0.89494068  0.38204119  0.358191  ]\n",
      " [ 0.26505659  0.10420553  0.12256522  0.25891935  0.31753373]\n",
      " [ 0.71765956  0.11860396  0.79093843  0.52271448  0.76307568]]\n",
      "\n",
      "After reshaping:\n",
      " [[ 0.42616857  0.49446928  0.89494068]\n",
      " [ 0.38204119  0.358191    0.26505659]\n",
      " [ 0.10420553  0.12256522  0.25891935]\n",
      " [ 0.31753373  0.71765956  0.11860396]\n",
      " [ 0.79093843  0.52271448  0.76307568]]\n"
     ]
    }
   ],
   "source": [
    "#Question 15\n",
    "#Create a 3x5 array with random elements. Reshape this into 5x3.  \n",
    "a=np.random.random((3,5))\n",
    "print('Before:\\n',a)\n",
    "a=a.reshape((5,3))\n",
    "print('\\nAfter reshaping:\\n',a)"
   ]
  },
  {
   "cell_type": "code",
   "execution_count": 214,
   "metadata": {},
   "outputs": [
    {
     "name": "stdout",
     "output_type": "stream",
     "text": [
      "Shape of a: (6, 6, 6)\n",
      "\n",
      "Resulting array:\n",
      " [[[ 1.  0.  0.  0.  0.  0.]\n",
      "  [ 0.  1.  0.  0.  0.  0.]\n",
      "  [ 0.  0.  1.  0.  0.  0.]\n",
      "  [ 0.  0.  0.  1.  0.  0.]\n",
      "  [ 0.  0.  0.  0.  1.  0.]\n",
      "  [ 0.  0.  0.  0.  0.  1.]]\n",
      "\n",
      " [[ 1.  0.  0.  0.  0.  0.]\n",
      "  [ 0.  1.  0.  0.  0.  0.]\n",
      "  [ 0.  0.  1.  0.  0.  0.]\n",
      "  [ 0.  0.  0.  1.  0.  0.]\n",
      "  [ 0.  0.  0.  0.  1.  0.]\n",
      "  [ 0.  0.  0.  0.  0.  1.]]\n",
      "\n",
      " [[ 1.  0.  0.  0.  0.  0.]\n",
      "  [ 0.  1.  0.  0.  0.  0.]\n",
      "  [ 0.  0.  1.  0.  0.  0.]\n",
      "  [ 0.  0.  0.  1.  0.  0.]\n",
      "  [ 0.  0.  0.  0.  1.  0.]\n",
      "  [ 0.  0.  0.  0.  0.  1.]]\n",
      "\n",
      " [[ 1.  0.  0.  0.  0.  0.]\n",
      "  [ 0.  1.  0.  0.  0.  0.]\n",
      "  [ 0.  0.  1.  0.  0.  0.]\n",
      "  [ 0.  0.  0.  1.  0.  0.]\n",
      "  [ 0.  0.  0.  0.  1.  0.]\n",
      "  [ 0.  0.  0.  0.  0.  1.]]\n",
      "\n",
      " [[ 1.  0.  0.  0.  0.  0.]\n",
      "  [ 0.  1.  0.  0.  0.  0.]\n",
      "  [ 0.  0.  1.  0.  0.  0.]\n",
      "  [ 0.  0.  0.  1.  0.  0.]\n",
      "  [ 0.  0.  0.  0.  1.  0.]\n",
      "  [ 0.  0.  0.  0.  0.  1.]]\n",
      "\n",
      " [[ 1.  0.  0.  0.  0.  0.]\n",
      "  [ 0.  1.  0.  0.  0.  0.]\n",
      "  [ 0.  0.  1.  0.  0.  0.]\n",
      "  [ 0.  0.  0.  1.  0.  0.]\n",
      "  [ 0.  0.  0.  0.  1.  0.]\n",
      "  [ 0.  0.  0.  0.  0.  1.]]]\n"
     ]
    }
   ],
   "source": [
    "#Question 16\n",
    "#Write a Python program to create a 3-D array [6x6x6] with ones on diagonals and zeros elsewhere\n",
    "a=np.eye(6)\n",
    "a=np.array([a]*6)\n",
    "print('Shape of a:',a.shape)\n",
    "print('\\nResulting array:\\n',a)"
   ]
  },
  {
   "cell_type": "markdown",
   "metadata": {
    "collapsed": true
   },
   "source": [
    "#Question 17\n",
    "The following table includes marks of students in various subjects.  Each row corresponds to a student [ Rajesh, Rima, Ram and Joseph]  coulmn correspond to a subject [Maths, Physics, Chemistry, Sociology]\n",
    "\n",
    "15 . 20 .   25  12\n",
    "45 .  50 .  50 . 48\n",
    "8 .    7 .   3 .    2\n",
    "28 .  32 . 40 .  39\n",
    "\n",
    "Do the following \n",
    "A.\n",
    "1. FInd the mean, median, mode and standard deviation for marks of each subject\n",
    "2. What is the minimum and maximum of each subject?\n",
    "3. Print the subject in  each student good at and poor at ?\n",
    "4. What is the overall class mean, mode, median and standard deviation\n",
    "\n",
    "B.\n",
    "Teacher just announced the marks of English. They are 40, 49, 10 and 35 for eah student.\n",
    "\n",
    "Re-calculate all subparts of A.\n",
    "\n",
    "C. A new student joined the class. For the time being, the scores are going to be zero for each subject. \n",
    "\n",
    "Re-calculate A again with the new student.\n",
    "\n",
    "D. Print the current score card for the class"
   ]
  },
  {
   "cell_type": "code",
   "execution_count": 491,
   "metadata": {},
   "outputs": [
    {
     "name": "stdout",
     "output_type": "stream",
     "text": [
      "Mean of marks:\n",
      "Maths : 24.0\n",
      "Physics : 27.25\n",
      "Chemistry : 29.5\n",
      "Sociology : 25.25\n",
      "\n",
      "Median of marks:\n",
      "Maths : 21.5\n",
      "Physics : 26.0\n",
      "Chemistry : 32.5\n",
      "Sociology : 25.5\n",
      "\n",
      "Mode of marks:\n",
      "Maths : 8\n",
      "Physics : 7\n",
      "Chemistry : 3\n",
      "Sociology : 2\n",
      "\n",
      "Standard Daviation of marks:\n",
      "Maths : 14.0890028036\n",
      "Physics : 15.8331140336\n",
      "Chemistry : 17.6988700204\n",
      "Sociology : 18.8596792125\n"
     ]
    }
   ],
   "source": [
    "#Solution 17\n",
    "from scipy import stats\n",
    "student=['Rajesh', 'Rima', 'Ram', 'Joseph']              #Rows\n",
    "subject=['Maths', 'Physics', 'Chemistry', 'Sociology']   #Columns\n",
    "marks=np.array([[15,20,25,12],  #Rajesh\n",
    "               [45,50,50,48],  #Rima\n",
    "               [8,7,3,2],      #Ram\n",
    "               [28,32,40,39]])  #Joseph\n",
    "\n",
    "#A.1 \n",
    "#FInd the mean, median, mode and standard deviation for marks of each subject\n",
    "print('Mean of marks:')\n",
    "for sub,m in zip(subject,np.mean(marks,axis=0)):\n",
    "    print(sub,':',m)\n",
    "\n",
    "print('\\nMedian of marks:')\n",
    "for sub,med in zip(subject,np.median(marks,axis=0)):\n",
    "    print(sub,':',med)\n",
    "\n",
    "print('\\nMode of marks:')\n",
    "for sub,mod in zip(subject,np.transpose(stats.mode(marks,axis=0)[0])):\n",
    "    print(sub,':',mod[0])\n",
    "    \n",
    "print('\\nStandard Daviation of marks:')\n",
    "for sub,sd in zip(subject,np.std(marks,axis=0)):\n",
    "    print(sub,':',sd)"
   ]
  },
  {
   "cell_type": "code",
   "execution_count": 492,
   "metadata": {},
   "outputs": [
    {
     "name": "stdout",
     "output_type": "stream",
     "text": [
      "Subject wise minimum and maximum:\n",
      "Maths :\n",
      "\tMin: 8 \n",
      "\tMax: 45\n",
      "Physics :\n",
      "\tMin: 7 \n",
      "\tMax: 50\n",
      "Chemistry :\n",
      "\tMin: 3 \n",
      "\tMax: 50\n",
      "Sociology :\n",
      "\tMin: 2 \n",
      "\tMax: 48\n"
     ]
    }
   ],
   "source": [
    "#A.2\n",
    "#What is the minimum and maximum of each subject?\n",
    "print('Subject wise minimum and maximum:')\n",
    "for sub,mini,maxi in zip(subject,np.min(marks,axis=0),np.max(marks,axis=0)):\n",
    "    print(sub,':\\n\\tMin:',mini,'\\n\\tMax:',maxi)"
   ]
  },
  {
   "cell_type": "code",
   "execution_count": 493,
   "metadata": {},
   "outputs": [
    {
     "name": "stdout",
     "output_type": "stream",
     "text": [
      "Subject in  each student good at and poor at:\n",
      "Rajesh :\n",
      "\tGood: Chemistry \n",
      "\tPoor: Sociology\n",
      "Rima :\n",
      "\tGood: Physics \n",
      "\tPoor: Maths\n",
      "Ram :\n",
      "\tGood: Maths \n",
      "\tPoor: Sociology\n",
      "Joseph :\n",
      "\tGood: Chemistry \n",
      "\tPoor: Maths\n"
     ]
    }
   ],
   "source": [
    "#A.3\n",
    "#Print the subject in  each student good at and poor at ?\n",
    "print('Subject in  each student good at and poor at:')\n",
    "for stu,good,bad in zip(student,np.argmax(marks,axis=1),np.argmin(marks,axis=1)):\n",
    "    print(stu,':\\n\\tGood:',subject[good],'\\n\\tPoor:',subject[bad])"
   ]
  },
  {
   "cell_type": "code",
   "execution_count": 494,
   "metadata": {},
   "outputs": [
    {
     "name": "stdout",
     "output_type": "stream",
     "text": [
      "Mean of overall class: 26.5\n",
      "Median of overall class is: 26.5\n",
      "Mode of marks: 50\n"
     ]
    }
   ],
   "source": [
    "#A.4\n",
    "#What is the overall class mean, mode, median and standard deviation\n",
    "print('Mean of overall class:',np.mean(marks))\n",
    "print('Median of overall class is:',np.median(marks))\n",
    "print('Mode of marks:',stats.mode(marks,axis=None)[0][0])"
   ]
  },
  {
   "cell_type": "code",
   "execution_count": 495,
   "metadata": {},
   "outputs": [
    {
     "name": "stdout",
     "output_type": "stream",
     "text": [
      "New subjects:\n",
      " ['Maths' 'Physics' 'Chemistry' 'Sociology' 'English']\n",
      "\n",
      "New Marks\n",
      " [[15 20 25 12 40]\n",
      " [45 50 50 48 49]\n",
      " [ 8  7  3  2 10]\n",
      " [28 32 40 39 35]]\n"
     ]
    }
   ],
   "source": [
    "#Question B\n",
    "#B.Teacher just announced the marks of English. They are 40, 49, 10 and 35 for eah student.\n",
    "subject=np.append(subject,['English'])\n",
    "marks=np.append(marks,[[40],[49],[10],[35]],axis=1)\n",
    "print('New subjects:\\n',subject)\n",
    "print('\\nNew Marks\\n',marks)"
   ]
  },
  {
   "cell_type": "code",
   "execution_count": 496,
   "metadata": {},
   "outputs": [
    {
     "name": "stdout",
     "output_type": "stream",
     "text": [
      "Mean of marks:\n",
      "Maths : 24.0\n",
      "Physics : 27.25\n",
      "Chemistry : 29.5\n",
      "Sociology : 25.25\n",
      "English : 33.5\n",
      "\n",
      "Median of marks:\n",
      "Maths : 21.5\n",
      "Physics : 26.0\n",
      "Chemistry : 32.5\n",
      "Sociology : 25.5\n",
      "English : 37.5\n",
      "\n",
      "Mode of marks:\n",
      "Maths : 8\n",
      "Physics : 7\n",
      "Chemistry : 3\n",
      "Sociology : 2\n",
      "English : 10\n",
      "\n",
      "Standard Daviation of marks:\n",
      "Maths : 14.0890028036\n",
      "Physics : 15.8331140336\n",
      "Chemistry : 17.6988700204\n",
      "Sociology : 18.8596792125\n",
      "English : 14.4654761415\n"
     ]
    }
   ],
   "source": [
    "#B.1 \n",
    "#Find the mean, median, mode and standard deviation for marks of each subject\n",
    "print('Mean of marks:')\n",
    "for sub,m in zip(subject,np.mean(marks,axis=0)):\n",
    "    print(sub,':',m)\n",
    "\n",
    "print('\\nMedian of marks:')\n",
    "for sub,med in zip(subject,np.median(marks,axis=0)):\n",
    "    print(sub,':',med)\n",
    "\n",
    "print('\\nMode of marks:')\n",
    "for sub,mod in zip(subject,np.transpose(stats.mode(marks,axis=0)[0])):\n",
    "    print(sub,':',mod[0])\n",
    "    \n",
    "print('\\nStandard Daviation of marks:')\n",
    "for sub,sd in zip(subject,np.std(marks,axis=0)):\n",
    "    print(sub,':',sd)"
   ]
  },
  {
   "cell_type": "code",
   "execution_count": 497,
   "metadata": {},
   "outputs": [
    {
     "name": "stdout",
     "output_type": "stream",
     "text": [
      "Subject wise minimum and maximum:\n",
      "Maths :\n",
      "\tMin: 8 \n",
      "\tMax: 45\n",
      "Physics :\n",
      "\tMin: 7 \n",
      "\tMax: 50\n",
      "Chemistry :\n",
      "\tMin: 3 \n",
      "\tMax: 50\n",
      "Sociology :\n",
      "\tMin: 2 \n",
      "\tMax: 48\n",
      "English :\n",
      "\tMin: 10 \n",
      "\tMax: 49\n"
     ]
    }
   ],
   "source": [
    "#B.2\n",
    "#What is the minimum and maximum of each subject?\n",
    "print('Subject wise minimum and maximum:')\n",
    "for sub,mini,maxi in zip(subject,np.min(marks,axis=0),np.max(marks,axis=0)):\n",
    "    print(sub,':\\n\\tMin:',mini,'\\n\\tMax:',maxi)"
   ]
  },
  {
   "cell_type": "code",
   "execution_count": 498,
   "metadata": {},
   "outputs": [
    {
     "name": "stdout",
     "output_type": "stream",
     "text": [
      "Subject in  each student good at and poor at:\n",
      "Rajesh :\n",
      "\tGood: English \n",
      "\tPoor: Sociology\n",
      "Rima :\n",
      "\tGood: Physics \n",
      "\tPoor: Maths\n",
      "Ram :\n",
      "\tGood: English \n",
      "\tPoor: Sociology\n",
      "Joseph :\n",
      "\tGood: Chemistry \n",
      "\tPoor: Maths\n"
     ]
    }
   ],
   "source": [
    "#B.3\n",
    "#Print the subject in  each student good at and poor at ?\n",
    "print('Subject in  each student good at and poor at:')\n",
    "for stu,good,bad in zip(student,np.argmax(marks,axis=1),np.argmin(marks,axis=1)):\n",
    "    print(stu,':\\n\\tGood:',subject[good],'\\n\\tPoor:',subject[bad])"
   ]
  },
  {
   "cell_type": "code",
   "execution_count": 499,
   "metadata": {},
   "outputs": [
    {
     "name": "stdout",
     "output_type": "stream",
     "text": [
      "Mean of overall class: 27.9\n",
      "Median of overall class is: 30.0\n",
      "Mode of marks: 40\n"
     ]
    }
   ],
   "source": [
    "#B.4\n",
    "#What is the overall class mean, mode, median and standard deviation\n",
    "print('Mean of overall class:',np.mean(marks,axis=None))\n",
    "print('Median of overall class is:',np.median(marks,axis=None))\n",
    "print('Mode of marks:',stats.mode(marks,axis=None)[0][0])\n"
   ]
  },
  {
   "cell_type": "code",
   "execution_count": 500,
   "metadata": {},
   "outputs": [
    {
     "name": "stdout",
     "output_type": "stream",
     "text": [
      "Students now:\n",
      " ['Rajesh' 'Rima' 'Ram' 'Joseph' 'Sita']\n",
      "\n",
      "Marks now\n",
      " [[ 15.  20.  25.  12.  40.]\n",
      " [ 45.  50.  50.  48.  49.]\n",
      " [  8.   7.   3.   2.  10.]\n",
      " [ 28.  32.  40.  39.  35.]\n",
      " [  0.   0.   0.   0.   0.]]\n"
     ]
    }
   ],
   "source": [
    "#C\n",
    "#A new student joined the class. For the time being, the scores are going to be zero for each subject. \n",
    "student=np.append(student,['Sita'])\n",
    "zeros=np.zeros(5)\n",
    "marks=np.vstack([marks,zeros])\n",
    "print('Students now:\\n',student)\n",
    "print('\\nMarks now\\n',marks)"
   ]
  },
  {
   "cell_type": "code",
   "execution_count": 501,
   "metadata": {},
   "outputs": [
    {
     "name": "stdout",
     "output_type": "stream",
     "text": [
      "Mean of marks:\n",
      "Maths : 19.2\n",
      "Physics : 21.8\n",
      "Chemistry : 23.6\n",
      "Sociology : 20.2\n",
      "English : 26.8\n",
      "\n",
      "Median of marks:\n",
      "Maths : 15.0\n",
      "Physics : 20.0\n",
      "Chemistry : 25.0\n",
      "Sociology : 12.0\n",
      "English : 35.0\n",
      "\n",
      "Mode of marks:\n",
      "Maths : 0.0\n",
      "Physics : 0.0\n",
      "Chemistry : 0.0\n",
      "Sociology : 0.0\n",
      "English : 0.0\n",
      "\n",
      "Standard Daviation of marks:\n",
      "Maths : 15.8417170787\n",
      "Physics : 17.870646323\n",
      "Chemistry : 19.7443662851\n",
      "Sociology : 19.6611291639\n",
      "English : 18.626862323\n"
     ]
    }
   ],
   "source": [
    "#C.1 \n",
    "#Find the mean, median, mode and standard deviation for marks of each subject\n",
    "print('Mean of marks:')\n",
    "for sub,m in zip(subject,np.mean(marks,axis=0)):\n",
    "    print(sub,':',m)\n",
    "\n",
    "print('\\nMedian of marks:')\n",
    "for sub,med in zip(subject,np.median(marks,axis=0)):\n",
    "    print(sub,':',med)\n",
    "\n",
    "print('\\nMode of marks:')\n",
    "for sub,mod in zip(subject,np.transpose(stats.mode(marks,axis=0)[0])):\n",
    "    print(sub,':',mod[0])\n",
    "    \n",
    "print('\\nStandard Daviation of marks:')\n",
    "for sub,sd in zip(subject,np.std(marks,axis=0)):\n",
    "    print(sub,':',sd)"
   ]
  },
  {
   "cell_type": "code",
   "execution_count": 502,
   "metadata": {},
   "outputs": [
    {
     "name": "stdout",
     "output_type": "stream",
     "text": [
      "Subject wise minimum and maximum:\n",
      "Maths :\n",
      "\tMin: 0.0 \n",
      "\tMax: 45.0\n",
      "Physics :\n",
      "\tMin: 0.0 \n",
      "\tMax: 50.0\n",
      "Chemistry :\n",
      "\tMin: 0.0 \n",
      "\tMax: 50.0\n",
      "Sociology :\n",
      "\tMin: 0.0 \n",
      "\tMax: 48.0\n",
      "English :\n",
      "\tMin: 0.0 \n",
      "\tMax: 49.0\n"
     ]
    }
   ],
   "source": [
    "#C.2\n",
    "#What is the minimum and maximum of each subject?\n",
    "print('Subject wise minimum and maximum:')\n",
    "for sub,mini,maxi in zip(subject,np.min(marks,axis=0),np.max(marks,axis=0)):\n",
    "    print(sub,':\\n\\tMin:',mini,'\\n\\tMax:',maxi)"
   ]
  },
  {
   "cell_type": "code",
   "execution_count": 503,
   "metadata": {},
   "outputs": [
    {
     "name": "stdout",
     "output_type": "stream",
     "text": [
      "Subject in  each student good at and poor at:\n",
      "Rajesh :\n",
      "\tGood: English \n",
      "\tPoor: Sociology\n",
      "Rima :\n",
      "\tGood: Physics \n",
      "\tPoor: Maths\n",
      "Ram :\n",
      "\tGood: English \n",
      "\tPoor: Sociology\n",
      "Joseph :\n",
      "\tGood: Chemistry \n",
      "\tPoor: Maths\n",
      "Sita :\n",
      "\tGood: Maths \n",
      "\tPoor: Maths\n"
     ]
    }
   ],
   "source": [
    "#C.3\n",
    "#Print the subject in  each student good at and poor at ?\n",
    "print('Subject in  each student good at and poor at:')\n",
    "for stu,good,bad in zip(student,np.argmax(marks,axis=1),np.argmin(marks,axis=1)):\n",
    "    print(stu,':\\n\\tGood:',subject[good],'\\n\\tPoor:',subject[bad])"
   ]
  },
  {
   "cell_type": "code",
   "execution_count": 504,
   "metadata": {},
   "outputs": [
    {
     "name": "stdout",
     "output_type": "stream",
     "text": [
      "Mean of overall class: 22.32\n",
      "Median of overall class is: 20.0\n",
      "Mode of marks: 0.0\n"
     ]
    }
   ],
   "source": [
    "#C.4\n",
    "#What is the overall class mean, mode, median and standard deviation\n",
    "print('Mean of overall class:',np.mean(marks,axis=None))\n",
    "print('Median of overall class is:',np.median(marks,axis=None))\n",
    "print('Mode of marks:',stats.mode(marks,axis=None)[0][0])"
   ]
  },
  {
   "cell_type": "code",
   "execution_count": 554,
   "metadata": {},
   "outputs": [
    {
     "name": "stdout",
     "output_type": "stream",
     "text": [
      "Student with best scores: Rima : 242.0\n",
      "Student with lowest scores: Sita : 0.0\n",
      "\n",
      "Sorted result of students:\n",
      "Rima : 242.0\n",
      "Joseph : 174.0\n",
      "Rajesh : 112.0\n",
      "Ram : 30.0\n",
      "Sita : 0.0\n",
      "\n",
      "Score card of the class is:\n",
      "Rajesh :\n",
      "\t Maths : 15.0\n",
      "\t Physics : 20.0\n",
      "\t Chemistry : 25.0\n",
      "\t Sociology : 12.0\n",
      "\t English : 40.0\n",
      "Total: 112.0 \n",
      "\n",
      "Rima :\n",
      "\t Maths : 45.0\n",
      "\t Physics : 50.0\n",
      "\t Chemistry : 50.0\n",
      "\t Sociology : 48.0\n",
      "\t English : 49.0\n",
      "Total: 242.0 \n",
      "\n",
      "Ram :\n",
      "\t Maths : 8.0\n",
      "\t Physics : 7.0\n",
      "\t Chemistry : 3.0\n",
      "\t Sociology : 2.0\n",
      "\t English : 10.0\n",
      "Total: 30.0 \n",
      "\n",
      "Joseph :\n",
      "\t Maths : 28.0\n",
      "\t Physics : 32.0\n",
      "\t Chemistry : 40.0\n",
      "\t Sociology : 39.0\n",
      "\t English : 35.0\n",
      "Total: 174.0 \n",
      "\n",
      "Sita :\n",
      "\t Maths : 0.0\n",
      "\t Physics : 0.0\n",
      "\t Chemistry : 0.0\n",
      "\t Sociology : 0.0\n",
      "\t English : 0.0\n",
      "Total: 0.0 \n",
      "\n"
     ]
    }
   ],
   "source": [
    "#D\n",
    "#Print the current score card for the class\n",
    "Totals=np.sum(marks,axis=1)\n",
    "topScorer=student[np.argmax(Totals)]\n",
    "leastScorer=student[(np.argmin(Totals))]\n",
    "print('Student with best scores:',topScorer,':',np.max(Totals))\n",
    "print('Student with lowest scores:',leastScorer,':',np.min(Totals))\n",
    "\n",
    "dic={}\n",
    "i=0\n",
    "for stu in student:\n",
    "    dic[stu]=Totals[i]\n",
    "    i+=1\n",
    "    \n",
    "li=sorted(dic.values(),reverse=True)\n",
    "print('\\nSorted result of students:')\n",
    "for y in li:\n",
    "    for x in dic:\n",
    "        if dic[x]==y:\n",
    "            print(x,':',dic[x])\n",
    "\n",
    "print('\\nScore card of the class is:')\n",
    "i=0\n",
    "for stu in student:\n",
    "    print(stu,':')\n",
    "    for sub,mark in zip(subject,marks[i]):\n",
    "        print('\\t',sub,':',mark)\n",
    "    print('Total:',Totals[i],'\\n')\n",
    "    i+=1\n"
   ]
  }
 ],
 "metadata": {
  "kernelspec": {
   "display_name": "Python 3",
   "language": "python",
   "name": "python3"
  },
  "language_info": {
   "codemirror_mode": {
    "name": "ipython",
    "version": 3
   },
   "file_extension": ".py",
   "mimetype": "text/x-python",
   "name": "python",
   "nbconvert_exporter": "python",
   "pygments_lexer": "ipython3",
   "version": "3.6.2"
  }
 },
 "nbformat": 4,
 "nbformat_minor": 2
}
