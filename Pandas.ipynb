{
 "cells": [
  {
   "cell_type": "code",
   "execution_count": 66,
   "metadata": {},
   "outputs": [
    {
     "name": "stdout",
     "output_type": "stream",
     "text": [
      "Columns are:\n",
      "\t User_ID\n",
      "\t Product_ID\n",
      "\t Gender\n",
      "\t Age\n",
      "\t Occupation\n",
      "\t City_Category\n",
      "\t Stay_In_Current_City_Years\n",
      "\t Marital_Status\n",
      "\t Product_Category_1\n",
      "\t Product_Category_2\n",
      "\t Product_Category_3\n",
      "\t Purchase\n"
     ]
    }
   ],
   "source": [
    "#Question 1\n",
    "#Get the columns or features of  of the Dataset\n",
    "print('Columns are:')\n",
    "for x in df.columns:\n",
    "    print('\\t',x)"
   ]
  },
  {
   "cell_type": "code",
   "execution_count": 67,
   "metadata": {},
   "outputs": [
    {
     "name": "stdout",
     "output_type": "stream",
     "text": [
      "Total number of observations in data set: 12\n"
     ]
    }
   ],
   "source": [
    "#Question 2\n",
    "#How many observations are there in the dataset\n",
    "print('Total number of observations in data set:',len(df.columns))"
   ]
  },
  {
   "cell_type": "code",
   "execution_count": 68,
   "metadata": {},
   "outputs": [
    {
     "name": "stdout",
     "output_type": "stream",
     "text": [
      "Missing values in each category:\n",
      "                    User_ID                    0\n",
      "                 Product_ID                    0\n",
      "                     Gender                    0\n",
      "                        Age                    0\n",
      "                 Occupation                    0\n",
      "              City_Category                    0\n",
      " Stay_In_Current_City_Years                    0\n",
      "             Marital_Status                    0\n",
      "         Product_Category_1                    0\n",
      "         Product_Category_2               166986\n",
      "         Product_Category_3               373299\n",
      "                   Purchase                    0\n"
     ]
    }
   ],
   "source": [
    "#Question 3\n",
    "#What are the missing values ? How many for each category?\n",
    "import numpy as np\n",
    "print('Missing values in each category:')\n",
    "for x in df:\n",
    "    print('%27s'%x,'%20s'%len(df[df[x].isnull()]))\n"
   ]
  },
  {
   "cell_type": "code",
   "execution_count": 69,
   "metadata": {},
   "outputs": [
    {
     "name": "stdout",
     "output_type": "stream",
     "text": [
      "Count of unique User ID's: 5891\n",
      "Count of unique Product ID's: 3623\n"
     ]
    }
   ],
   "source": [
    "#Question 4\n",
    "#How many unique values for UserId and Product Id\n",
    "print('Count of unique User ID\\'s:',df['User_ID'].nunique())\n",
    "print('Count of unique Product ID\\'s:',df['Product_ID'].nunique())"
   ]
  },
  {
   "cell_type": "code",
   "execution_count": 70,
   "metadata": {},
   "outputs": [
    {
     "name": "stdout",
     "output_type": "stream",
     "text": [
      "Males: 405380\n",
      "Females: 132197\n"
     ]
    }
   ],
   "source": [
    "#Question 5\n",
    "#How many males and females in the data set?\n",
    "print('Males:',df.Gender.isin(['M']).sum())\n",
    "print('Females:',df.Gender.isin(['F']).sum())"
   ]
  },
  {
   "cell_type": "code",
   "execution_count": 101,
   "metadata": {},
   "outputs": [
    {
     "data": {
      "text/plain": [
       "<matplotlib.axes._subplots.AxesSubplot at 0x14368e10>"
      ]
     },
     "execution_count": 101,
     "metadata": {},
     "output_type": "execute_result"
    }
   ],
   "source": [
    "#Question 6\n",
    "#Print a frequency chart for the age groups\n",
    "df['Age'].value_counts().plot('bar')"
   ]
  },
  {
   "cell_type": "code",
   "execution_count": null,
   "metadata": {
    "collapsed": true
   },
   "outputs": [],
   "source": []
  }
 ],
 "metadata": {
  "kernelspec": {
   "display_name": "Python 3",
   "language": "python",
   "name": "python3"
  },
  "language_info": {
   "codemirror_mode": {
    "name": "ipython",
    "version": 3
   },
   "file_extension": ".py",
   "mimetype": "text/x-python",
   "name": "python",
   "nbconvert_exporter": "python",
   "pygments_lexer": "ipython3",
   "version": "3.6.2"
  }
 },
 "nbformat": 4,
 "nbformat_minor": 2
}
