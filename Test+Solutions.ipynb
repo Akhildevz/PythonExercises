{
 "cells": [
  {
   "cell_type": "code",
   "execution_count": 1,
   "metadata": {},
   "outputs": [
    {
     "name": "stdout",
     "output_type": "stream",
     "text": [
      "[  0.   0.   0.   0.   0.   0.   0.   0.   0.   0.   0.   0.   0.   0.   0.\n",
      "   0.   0.   0.   0.   0.   0.   0.   0.   0.   0.   0.   0.   0.   0.   0.\n",
      "   0.   0.   0.   0.   0.   0.   0.   0.   0.   0.   0.   0.   0.   0.   0.\n",
      "   0.   0.   0.   0.  50.   0.   0.   0.   0.   0.   0.   0.   0.   0.   0.\n",
      "   0.   0.   0.   0.   0.   0.   0.   0.   0.   0.   0.   0.   0.   0.   0.\n",
      "   0.   0.   0.   0.   0.   0.   0.   0.   0.   0.   0.   0.   0.   0.   0.\n",
      "   0.   0.   0.   0.   0.   0.   0.   0.   0.   0.]\n"
     ]
    }
   ],
   "source": [
    "#1.Create a vector or array of 100 elements. Its 50th value should be    50.0 and other values should be 0.0 (1 mark)\n",
    "import numpy as np\n",
    "a=np.zeros(100)\n",
    "a[49]=50.0\n",
    "print(a)"
   ]
  },
  {
   "cell_type": "code",
   "execution_count": 2,
   "metadata": {},
   "outputs": [
    {
     "name": "stdout",
     "output_type": "stream",
     "text": [
      "[  1.   1.   1.   1.   1.   1.   1.   1.   1.   1.   1.   1.   1.   1.   1.\n",
      "   1.   1.   1.   1.   1.   1.   1.   1.   1.   1.   1.   1.   1.   1.   1.\n",
      "   1.   1.   1.   1.   1.   1.   1.   1.   1.   1.   1.   1.   1.   1.   1.\n",
      "   1.   1.   1.   1.  10.   1.   1.   1.   1.   1.   1.   1.   1.   1.   1.\n",
      "   1.   1.   1.   1.   1.   1.   1.   1.   1.   1.   1.   1.   1.   1.   1.\n",
      "   1.   1.   1.   1.   1.   1.   1.   1.   1.   1.   1.   1.   1.   1.   1.\n",
      "   1.   1.   1.   1.   1.   1.   1.   1.   1.   1.]\n"
     ]
    }
   ],
   "source": [
    "#2.Create a vector or array of 100 elements. Its 50th value should be    10.0 and other values should be 1.0 (1 mark)\n",
    "a=np.ones(100)\n",
    "a[49]=10.0\n",
    "print(a)"
   ]
  },
  {
   "cell_type": "code",
   "execution_count": 6,
   "metadata": {},
   "outputs": [
    {
     "name": "stdout",
     "output_type": "stream",
     "text": [
      "[ 3  4  5  6  7  8  9 10 11 12 13 14 15 16 17 18 19 20 21 22 23 24 25 26 27\n",
      " 28 29 30]\n"
     ]
    }
   ],
   "source": [
    "#3.Create a  vector or array whose values are from 3, 30 (1 mark)\n",
    "a=np.arange(3,31)\n",
    "print(a)"
   ]
  },
  {
   "cell_type": "code",
   "execution_count": 12,
   "metadata": {},
   "outputs": [
    {
     "name": "stdout",
     "output_type": "stream",
     "text": [
      "(5, 4, 3, 2, 1)\n"
     ]
    }
   ],
   "source": [
    "#4.X = (1,2,3,4,5).  Reverse and print X (1 mark)\n",
    "X = (1,2,3,4,5)\n",
    "a=np.array(X)\n",
    "X=tuple(a[::-1])\n",
    "print(X)"
   ]
  },
  {
   "cell_type": "code",
   "execution_count": 14,
   "metadata": {},
   "outputs": [
    {
     "name": "stdout",
     "output_type": "stream",
     "text": [
      "[[ 0  1  2  3  4]\n",
      " [ 5  6  7  8  9]\n",
      " [10 11 12 13 14]\n",
      " [15 16 17 18 19]\n",
      " [20 21 22 23 24]]\n"
     ]
    }
   ],
   "source": [
    "#5.Create a 5x 5 matrix and values should be from 0 to 24 (1 mark)\n",
    "a=np.arange(25).reshape(5,5)\n",
    "print(a)"
   ]
  },
  {
   "cell_type": "markdown",
   "metadata": {},
   "source": [
    "6.Consider the following  matrix A1 and A2   (9 marks)\n",
    "\n",
    "\n",
    "       A1 :\n",
    "             1        3       0\n",
    "\n",
    "             2        1        1\n",
    "\n",
    "             3        4         0\n",
    "\n",
    "       A2 :\n",
    "             3        4         6\n",
    "   \n",
    "             2        1          3\n",
    "\n",
    "             1        2          8\n",
    "\n"
   ]
  },
  {
   "cell_type": "code",
   "execution_count": 116,
   "metadata": {},
   "outputs": [
    {
     "name": "stdout",
     "output_type": "stream",
     "text": [
      "Max in A1: 4 \tMax in A2: 8\n",
      "Min in A1: 0 \tMin in A2: 1\n"
     ]
    }
   ],
   "source": [
    "#6.a) Find min. max of the values for A1 and A2\n",
    "A1=np.array([[1,3,0],[2,1,1],[3,4,0]])\n",
    "A2=np.array([[3,4,6],[2,1,3],[1,2,8]])\n",
    "print('Max in A1:',A1.max(),'\\tMax in A2:',A2.max())\n",
    "print('Min in A1:',A1.min(),'\\tMin in A2:',A2.min())"
   ]
  },
  {
   "cell_type": "code",
   "execution_count": 117,
   "metadata": {},
   "outputs": [
    {
     "name": "stdout",
     "output_type": "stream",
     "text": [
      "Mean of A1 1.66666666667\n",
      "Mean of A2 3.33333333333\n"
     ]
    }
   ],
   "source": [
    "#6.b) Find the mean value for A1 and A2\n",
    "print('Mean of A1',A1.mean())\n",
    "print('Mean of A2',A2.mean())"
   ]
  },
  {
   "cell_type": "code",
   "execution_count": 118,
   "metadata": {},
   "outputs": [
    {
     "name": "stdout",
     "output_type": "stream",
     "text": [
      "[[0 3 0]\n",
      " [2 0 1]\n",
      " [3 4 0]]\n"
     ]
    }
   ],
   "source": [
    "#6.c) Make the values below the diagonal as 0.0 for A1\n",
    "np.fill_diagonal(A1,0)\n",
    "print(A1)"
   ]
  },
  {
   "cell_type": "code",
   "execution_count": 119,
   "metadata": {},
   "outputs": [
    {
     "name": "stdout",
     "output_type": "stream",
     "text": [
      "Multiplication of A1, A2 is:\n",
      " [[ 0 12  0]\n",
      " [ 4  0  3]\n",
      " [ 3  8  0]]\n"
     ]
    }
   ],
   "source": [
    "#6.d) Multiply A1 and A2\n",
    "print('Multiplication of A1, A2 is:\\n',np.multiply(A1,A2))"
   ]
  },
  {
   "cell_type": "code",
   "execution_count": 120,
   "metadata": {},
   "outputs": [
    {
     "name": "stdout",
     "output_type": "stream",
     "text": [
      "Common values in A1 & A2: [1 2 3 4]\n"
     ]
    }
   ],
   "source": [
    "#6.e) What are the common values between A1 and A2\n",
    "print('Common values in A1 & A2:',np.intersect1d(A1, A2))"
   ]
  },
  {
   "cell_type": "code",
   "execution_count": 121,
   "metadata": {},
   "outputs": [
    {
     "name": "stdout",
     "output_type": "stream",
     "text": [
      "Before:\n",
      " [[0 3 0]\n",
      " [2 0 1]\n",
      " [3 4 0]]\n",
      "\n",
      "After:\n",
      " [[3 4 0]\n",
      " [2 0 1]\n",
      " [3 4 0]]\n"
     ]
    }
   ],
   "source": [
    "#6.f) Swap first and 3rd rows of A1\n",
    "print('Before:\\n',A1)\n",
    "a=A1[0]\n",
    "A1[0]=A1[2]\n",
    "A1[2]=a\n",
    "print('\\nAfter:\\n',A1)"
   ]
  },
  {
   "cell_type": "code",
   "execution_count": 122,
   "metadata": {},
   "outputs": [
    {
     "name": "stdout",
     "output_type": "stream",
     "text": [
      "Most frequent number in A1: 0\n",
      "Most frequent number in A2: 1\n"
     ]
    }
   ],
   "source": [
    "#6.g) What is the  most frequent numbers from A1 and A2\n",
    "from scipy import stats\n",
    "print('Most frequent number in A1:',np.transpose(stats.mode(A1,axis=None)[0][0]))\n",
    "print('Most frequent number in A2:',np.transpose(stats.mode(A2,axis=None)[0][0]))"
   ]
  },
  {
   "cell_type": "code",
   "execution_count": 123,
   "metadata": {},
   "outputs": [
    {
     "name": "stdout",
     "output_type": "stream",
     "text": [
      "[[ 3.  4.  0.  1.]\n",
      " [ 2.  0.  1.  1.]\n",
      " [ 3.  4.  0.  1.]]\n"
     ]
    }
   ],
   "source": [
    "#6.h) Add a column to A1 with values 1 1 1 \n",
    "one = np.ones((3,4))\n",
    "one[:,:-1] = A1\n",
    "A1=one\n",
    "print(A1)"
   ]
  },
  {
   "cell_type": "code",
   "execution_count": 124,
   "metadata": {},
   "outputs": [
    {
     "name": "stdout",
     "output_type": "stream",
     "text": [
      "[[3 4 6 2]\n",
      " [2 1 3 2]\n",
      " [1 2 8 2]]\n"
     ]
    }
   ],
   "source": [
    "#6.i) Add a row to A2 with 2 2 2\n",
    "two = np.full((3,4),2)\n",
    "two[:,:-1] = A2\n",
    "A2=two\n",
    "print(A2)"
   ]
  },
  {
   "cell_type": "code",
   "execution_count": 125,
   "metadata": {},
   "outputs": [
    {
     "name": "stdout",
     "output_type": "stream",
     "text": [
      "Matrix multiplication of A1 & A2:\n",
      " [[  9.  16.   0.   2.]\n",
      " [  4.   0.   3.   2.]\n",
      " [  3.   8.   0.   2.]]\n",
      "\n",
      "Matrix addition of A1 & A2:\n",
      " [[ 6.  8.  6.  3.]\n",
      " [ 4.  1.  4.  3.]\n",
      " [ 4.  6.  8.  3.]]\n"
     ]
    }
   ],
   "source": [
    "#7. Write a function for matrix multiplications and additions. Use A1 and A2 to test.[3 marks]\n",
    "def matrix_opr(a,b,task):\n",
    "    if task=='m':\n",
    "        return np.multiply(a,b)\n",
    "    else:\n",
    "        return np.add(a,b)\n",
    "print('Matrix multiplication of A1 & A2:\\n',matrix_opr(A1,A2,'m'))\n",
    "print('\\nMatrix addition of A1 & A2:\\n',matrix_opr(A1,A2,'a'))"
   ]
  },
  {
   "cell_type": "code",
   "execution_count": 126,
   "metadata": {},
   "outputs": [
    {
     "name": "stdout",
     "output_type": "stream",
     "text": [
      "Sorted array is: [11, 12, 22, 25, 34, 64, 90]\n"
     ]
    }
   ],
   "source": [
    "#8. Write a bubble sort program with normal Python  for 10 floating point numbers [3 marks]\n",
    "def Bubble_Sort(a):\n",
    "    n = len(a)\n",
    "    for i in range(n):\n",
    "        for j in range(0, n-i-1):\n",
    "            if a[j] > a[j+1] :\n",
    "                a[j], a[j+1] = a[j+1], a[j]\n",
    "                \n",
    "a=[64, 34, 25, 12, 22, 11, 90]\n",
    "Bubble_Sort(a)\n",
    "print ('Sorted array is:',a)"
   ]
  }
 ],
 "metadata": {
  "kernelspec": {
   "display_name": "Python 3",
   "language": "python",
   "name": "python3"
  },
  "language_info": {
   "codemirror_mode": {
    "name": "ipython",
    "version": 3
   },
   "file_extension": ".py",
   "mimetype": "text/x-python",
   "name": "python",
   "nbconvert_exporter": "python",
   "pygments_lexer": "ipython3",
   "version": "3.6.2"
  }
 },
 "nbformat": 4,
 "nbformat_minor": 2
}
